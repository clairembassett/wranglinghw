{
  "cells": [
    {
      "cell_type": "markdown",
      "metadata": {
        "id": "xjQOLAwdIf5Q"
      },
      "source": [
        "# Assignment: Exploratory Data Analysis\n",
        "### `! git clone https://github.com/ds4e/EDA`\n",
        "### Do Q1 and two other questions."
      ]
    },
    {
      "cell_type": "markdown",
      "metadata": {
        "id": "8Z7H5bNgIf5R"
      },
      "source": [
        "**Q1.** In class, we talked about how to compute the sample mean of a variable $X$,\n",
        "$$\n",
        "m(X) = \\dfrac{1}{N} \\sum_{i=1}^N x_i\n",
        "$$\n",
        "and sample covariance of two variables $X$ and $Y$,\n",
        "$$\n",
        "\\text{cov}(X,Y) = \\dfrac{1}{N} \\sum_{i=1}^N (x_i - m(X))(y_i - m(Y))).\n",
        "$$\n",
        "Recall, the sample variance of $X$ is\n",
        "$$\n",
        "s^2 = \\dfrac{1}{N} \\sum_{i=1}^N (x_i - m(X))^2.\n",
        "$$\n",
        "It can be very helpful to understand some basic properties of these statistics. If you want to write your calculations on a piece of paper, take a photo, and upload that to your GitHub repo, that's probably easiest.\n",
        "\n",
        "1. Show that $m(a + bX) = a+b \\times m(X)$.\n",
        "2. Show that $\\text{cov}(X,a+bY) = b \\times \\text{cov}(X,Y)$\n",
        "3. Show that $\\text{cov}(a+bX,a+bX) = b^2 \\text{cov}(X,X) $, and in particular that $\\text{cov}(X,X) = s^2 $.\n",
        "4. Instead of the mean, consider the median. Consider transformations that are non-decreasing (if $x\\ge x'$, then $g(x)\\ge g(x')$), like $2+5 \\times X$ or $\\text{arcsinh}(X)$. Is a non-decreasing transformation of the median the median of the transformed variable? Explain. Does your answer apply to any quantile? The IQR? The range?\n",
        "5. Consider a non-decreasing transformation $g()$. Is is always true that $m(g(X))= g(m(X))$?"
      ]
    },
    {
      "cell_type": "code",
      "source": [
        "import pandas as pd\n",
        "import numpy as np\n",
        "import matplotlib.pyplot as plt\n",
        "import seaborn as sns"
      ],
      "metadata": {
        "id": "qp2CPLZ_JMhX"
      },
      "execution_count": 2,
      "outputs": []
    },
    {
      "cell_type": "markdown",
      "metadata": {
        "id": "xtXk0OoVIf5R"
      },
      "source": [
        "**Q2.** This question looks at financial transfers from foreign entities to American universities. In particular, from which countries and giftors are the gifts coming from, and to which institutions are they going? For this question, `.groupby([vars]).count()` and `.groupby([vars]).sum()` will be especially useful to tally the number of occurrences and sum the values of those occurrences.\n",
        "\n",
        "1. Load the `./data/ForeignGifts_edu.csv` dataset.\n",
        "2. For `Foreign Gift Amount`, create a histogram and describe the variable. Describe your findings.\n",
        "3. For `Gift Type`, create a histogram or value counts table. What proportion of the gifts are contracts, real estate, and monetary gifts?\n",
        "4. Create a kernel density plot of the log of `Foreign Gift Amount`, and then a kernel density plot of the log of `Foreign Gift Amount` conditional on gift type. Do you notice any patterns?\n",
        "5. What are the top 15 countries in terms of the number of gifts? What are the top 15 countries in terms of the amount given?\n",
        "6. What are the top 15 institutions in terms of the total amount of money they receive? Make a histogram of the total amount received by all institutions.\n",
        "7. Which giftors provide the most money, in total?"
      ]
    },
    {
      "cell_type": "markdown",
      "source": [
        "####Problem 1.1: Load the Dataset"
      ],
      "metadata": {
        "id": "cJ2BtmenJwFA"
      }
    },
    {
      "cell_type": "code",
      "source": [
        "#1\n",
        "df = pd.read_csv('/content/ForeignGifts_edu.csv')"
      ],
      "metadata": {
        "id": "_AGvd5AcJGwz"
      },
      "execution_count": 3,
      "outputs": []
    },
    {
      "cell_type": "code",
      "source": [
        "df.head()"
      ],
      "metadata": {
        "colab": {
          "base_uri": "https://localhost:8080/",
          "height": 469
        },
        "id": "SVmd0if3H5DH",
        "outputId": "5fa1e47d-bfc8-4785-af83-ae8d2a0f6187"
      },
      "execution_count": 4,
      "outputs": [
        {
          "output_type": "execute_result",
          "data": {
            "text/plain": [
              "   ID   OPEID               Institution Name          City State  \\\n",
              "0   1  102000  Jacksonville State University  Jacksonville    AL   \n",
              "1   2  104700                Troy University          Troy    AL   \n",
              "2   3  105100          University of Alabama    Tuscaloosa    AL   \n",
              "3   4  105100          University of Alabama    Tuscaloosa    AL   \n",
              "4   5  105100          University of Alabama    Tuscaloosa    AL   \n",
              "\n",
              "   Foreign Gift Received Date  Foreign Gift Amount      Gift Type  \\\n",
              "0                     43738.0             250000.0  Monetary Gift   \n",
              "1                     43592.0             463657.0       Contract   \n",
              "2                     43466.0            3649107.0       Contract   \n",
              "3                     43472.0               1000.0       Contract   \n",
              "4                     43479.0              49476.0       Contract   \n",
              "\n",
              "  Country of Giftor                          Giftor Name  \n",
              "0             CHINA                                  NaN  \n",
              "1             CHINA     Confucius Institute Headquarters  \n",
              "2           ENGLAND  Springer Nature Customer Service Ce  \n",
              "3      SAUDI ARABIA       Saudi Arabia Education Mission  \n",
              "4      SAUDI ARABIA       Saudi Arabia Education Mission  "
            ],
            "text/html": [
              "\n",
              "  <div id=\"df-418d572a-cd7b-4f43-bbf3-df1ed807a354\" class=\"colab-df-container\">\n",
              "    <div>\n",
              "<style scoped>\n",
              "    .dataframe tbody tr th:only-of-type {\n",
              "        vertical-align: middle;\n",
              "    }\n",
              "\n",
              "    .dataframe tbody tr th {\n",
              "        vertical-align: top;\n",
              "    }\n",
              "\n",
              "    .dataframe thead th {\n",
              "        text-align: right;\n",
              "    }\n",
              "</style>\n",
              "<table border=\"1\" class=\"dataframe\">\n",
              "  <thead>\n",
              "    <tr style=\"text-align: right;\">\n",
              "      <th></th>\n",
              "      <th>ID</th>\n",
              "      <th>OPEID</th>\n",
              "      <th>Institution Name</th>\n",
              "      <th>City</th>\n",
              "      <th>State</th>\n",
              "      <th>Foreign Gift Received Date</th>\n",
              "      <th>Foreign Gift Amount</th>\n",
              "      <th>Gift Type</th>\n",
              "      <th>Country of Giftor</th>\n",
              "      <th>Giftor Name</th>\n",
              "    </tr>\n",
              "  </thead>\n",
              "  <tbody>\n",
              "    <tr>\n",
              "      <th>0</th>\n",
              "      <td>1</td>\n",
              "      <td>102000</td>\n",
              "      <td>Jacksonville State University</td>\n",
              "      <td>Jacksonville</td>\n",
              "      <td>AL</td>\n",
              "      <td>43738.0</td>\n",
              "      <td>250000.0</td>\n",
              "      <td>Monetary Gift</td>\n",
              "      <td>CHINA</td>\n",
              "      <td>NaN</td>\n",
              "    </tr>\n",
              "    <tr>\n",
              "      <th>1</th>\n",
              "      <td>2</td>\n",
              "      <td>104700</td>\n",
              "      <td>Troy University</td>\n",
              "      <td>Troy</td>\n",
              "      <td>AL</td>\n",
              "      <td>43592.0</td>\n",
              "      <td>463657.0</td>\n",
              "      <td>Contract</td>\n",
              "      <td>CHINA</td>\n",
              "      <td>Confucius Institute Headquarters</td>\n",
              "    </tr>\n",
              "    <tr>\n",
              "      <th>2</th>\n",
              "      <td>3</td>\n",
              "      <td>105100</td>\n",
              "      <td>University of Alabama</td>\n",
              "      <td>Tuscaloosa</td>\n",
              "      <td>AL</td>\n",
              "      <td>43466.0</td>\n",
              "      <td>3649107.0</td>\n",
              "      <td>Contract</td>\n",
              "      <td>ENGLAND</td>\n",
              "      <td>Springer Nature Customer Service Ce</td>\n",
              "    </tr>\n",
              "    <tr>\n",
              "      <th>3</th>\n",
              "      <td>4</td>\n",
              "      <td>105100</td>\n",
              "      <td>University of Alabama</td>\n",
              "      <td>Tuscaloosa</td>\n",
              "      <td>AL</td>\n",
              "      <td>43472.0</td>\n",
              "      <td>1000.0</td>\n",
              "      <td>Contract</td>\n",
              "      <td>SAUDI ARABIA</td>\n",
              "      <td>Saudi Arabia Education Mission</td>\n",
              "    </tr>\n",
              "    <tr>\n",
              "      <th>4</th>\n",
              "      <td>5</td>\n",
              "      <td>105100</td>\n",
              "      <td>University of Alabama</td>\n",
              "      <td>Tuscaloosa</td>\n",
              "      <td>AL</td>\n",
              "      <td>43479.0</td>\n",
              "      <td>49476.0</td>\n",
              "      <td>Contract</td>\n",
              "      <td>SAUDI ARABIA</td>\n",
              "      <td>Saudi Arabia Education Mission</td>\n",
              "    </tr>\n",
              "  </tbody>\n",
              "</table>\n",
              "</div>\n",
              "    <div class=\"colab-df-buttons\">\n",
              "\n",
              "  <div class=\"colab-df-container\">\n",
              "    <button class=\"colab-df-convert\" onclick=\"convertToInteractive('df-418d572a-cd7b-4f43-bbf3-df1ed807a354')\"\n",
              "            title=\"Convert this dataframe to an interactive table.\"\n",
              "            style=\"display:none;\">\n",
              "\n",
              "  <svg xmlns=\"http://www.w3.org/2000/svg\" height=\"24px\" viewBox=\"0 -960 960 960\">\n",
              "    <path d=\"M120-120v-720h720v720H120Zm60-500h600v-160H180v160Zm220 220h160v-160H400v160Zm0 220h160v-160H400v160ZM180-400h160v-160H180v160Zm440 0h160v-160H620v160ZM180-180h160v-160H180v160Zm440 0h160v-160H620v160Z\"/>\n",
              "  </svg>\n",
              "    </button>\n",
              "\n",
              "  <style>\n",
              "    .colab-df-container {\n",
              "      display:flex;\n",
              "      gap: 12px;\n",
              "    }\n",
              "\n",
              "    .colab-df-convert {\n",
              "      background-color: #E8F0FE;\n",
              "      border: none;\n",
              "      border-radius: 50%;\n",
              "      cursor: pointer;\n",
              "      display: none;\n",
              "      fill: #1967D2;\n",
              "      height: 32px;\n",
              "      padding: 0 0 0 0;\n",
              "      width: 32px;\n",
              "    }\n",
              "\n",
              "    .colab-df-convert:hover {\n",
              "      background-color: #E2EBFA;\n",
              "      box-shadow: 0px 1px 2px rgba(60, 64, 67, 0.3), 0px 1px 3px 1px rgba(60, 64, 67, 0.15);\n",
              "      fill: #174EA6;\n",
              "    }\n",
              "\n",
              "    .colab-df-buttons div {\n",
              "      margin-bottom: 4px;\n",
              "    }\n",
              "\n",
              "    [theme=dark] .colab-df-convert {\n",
              "      background-color: #3B4455;\n",
              "      fill: #D2E3FC;\n",
              "    }\n",
              "\n",
              "    [theme=dark] .colab-df-convert:hover {\n",
              "      background-color: #434B5C;\n",
              "      box-shadow: 0px 1px 3px 1px rgba(0, 0, 0, 0.15);\n",
              "      filter: drop-shadow(0px 1px 2px rgba(0, 0, 0, 0.3));\n",
              "      fill: #FFFFFF;\n",
              "    }\n",
              "  </style>\n",
              "\n",
              "    <script>\n",
              "      const buttonEl =\n",
              "        document.querySelector('#df-418d572a-cd7b-4f43-bbf3-df1ed807a354 button.colab-df-convert');\n",
              "      buttonEl.style.display =\n",
              "        google.colab.kernel.accessAllowed ? 'block' : 'none';\n",
              "\n",
              "      async function convertToInteractive(key) {\n",
              "        const element = document.querySelector('#df-418d572a-cd7b-4f43-bbf3-df1ed807a354');\n",
              "        const dataTable =\n",
              "          await google.colab.kernel.invokeFunction('convertToInteractive',\n",
              "                                                    [key], {});\n",
              "        if (!dataTable) return;\n",
              "\n",
              "        const docLinkHtml = 'Like what you see? Visit the ' +\n",
              "          '<a target=\"_blank\" href=https://colab.research.google.com/notebooks/data_table.ipynb>data table notebook</a>'\n",
              "          + ' to learn more about interactive tables.';\n",
              "        element.innerHTML = '';\n",
              "        dataTable['output_type'] = 'display_data';\n",
              "        await google.colab.output.renderOutput(dataTable, element);\n",
              "        const docLink = document.createElement('div');\n",
              "        docLink.innerHTML = docLinkHtml;\n",
              "        element.appendChild(docLink);\n",
              "      }\n",
              "    </script>\n",
              "  </div>\n",
              "\n",
              "\n",
              "<div id=\"df-80d26fc2-c9a7-4f9e-a9ac-05a0d36397c9\">\n",
              "  <button class=\"colab-df-quickchart\" onclick=\"quickchart('df-80d26fc2-c9a7-4f9e-a9ac-05a0d36397c9')\"\n",
              "            title=\"Suggest charts\"\n",
              "            style=\"display:none;\">\n",
              "\n",
              "<svg xmlns=\"http://www.w3.org/2000/svg\" height=\"24px\"viewBox=\"0 0 24 24\"\n",
              "     width=\"24px\">\n",
              "    <g>\n",
              "        <path d=\"M19 3H5c-1.1 0-2 .9-2 2v14c0 1.1.9 2 2 2h14c1.1 0 2-.9 2-2V5c0-1.1-.9-2-2-2zM9 17H7v-7h2v7zm4 0h-2V7h2v10zm4 0h-2v-4h2v4z\"/>\n",
              "    </g>\n",
              "</svg>\n",
              "  </button>\n",
              "\n",
              "<style>\n",
              "  .colab-df-quickchart {\n",
              "      --bg-color: #E8F0FE;\n",
              "      --fill-color: #1967D2;\n",
              "      --hover-bg-color: #E2EBFA;\n",
              "      --hover-fill-color: #174EA6;\n",
              "      --disabled-fill-color: #AAA;\n",
              "      --disabled-bg-color: #DDD;\n",
              "  }\n",
              "\n",
              "  [theme=dark] .colab-df-quickchart {\n",
              "      --bg-color: #3B4455;\n",
              "      --fill-color: #D2E3FC;\n",
              "      --hover-bg-color: #434B5C;\n",
              "      --hover-fill-color: #FFFFFF;\n",
              "      --disabled-bg-color: #3B4455;\n",
              "      --disabled-fill-color: #666;\n",
              "  }\n",
              "\n",
              "  .colab-df-quickchart {\n",
              "    background-color: var(--bg-color);\n",
              "    border: none;\n",
              "    border-radius: 50%;\n",
              "    cursor: pointer;\n",
              "    display: none;\n",
              "    fill: var(--fill-color);\n",
              "    height: 32px;\n",
              "    padding: 0;\n",
              "    width: 32px;\n",
              "  }\n",
              "\n",
              "  .colab-df-quickchart:hover {\n",
              "    background-color: var(--hover-bg-color);\n",
              "    box-shadow: 0 1px 2px rgba(60, 64, 67, 0.3), 0 1px 3px 1px rgba(60, 64, 67, 0.15);\n",
              "    fill: var(--button-hover-fill-color);\n",
              "  }\n",
              "\n",
              "  .colab-df-quickchart-complete:disabled,\n",
              "  .colab-df-quickchart-complete:disabled:hover {\n",
              "    background-color: var(--disabled-bg-color);\n",
              "    fill: var(--disabled-fill-color);\n",
              "    box-shadow: none;\n",
              "  }\n",
              "\n",
              "  .colab-df-spinner {\n",
              "    border: 2px solid var(--fill-color);\n",
              "    border-color: transparent;\n",
              "    border-bottom-color: var(--fill-color);\n",
              "    animation:\n",
              "      spin 1s steps(1) infinite;\n",
              "  }\n",
              "\n",
              "  @keyframes spin {\n",
              "    0% {\n",
              "      border-color: transparent;\n",
              "      border-bottom-color: var(--fill-color);\n",
              "      border-left-color: var(--fill-color);\n",
              "    }\n",
              "    20% {\n",
              "      border-color: transparent;\n",
              "      border-left-color: var(--fill-color);\n",
              "      border-top-color: var(--fill-color);\n",
              "    }\n",
              "    30% {\n",
              "      border-color: transparent;\n",
              "      border-left-color: var(--fill-color);\n",
              "      border-top-color: var(--fill-color);\n",
              "      border-right-color: var(--fill-color);\n",
              "    }\n",
              "    40% {\n",
              "      border-color: transparent;\n",
              "      border-right-color: var(--fill-color);\n",
              "      border-top-color: var(--fill-color);\n",
              "    }\n",
              "    60% {\n",
              "      border-color: transparent;\n",
              "      border-right-color: var(--fill-color);\n",
              "    }\n",
              "    80% {\n",
              "      border-color: transparent;\n",
              "      border-right-color: var(--fill-color);\n",
              "      border-bottom-color: var(--fill-color);\n",
              "    }\n",
              "    90% {\n",
              "      border-color: transparent;\n",
              "      border-bottom-color: var(--fill-color);\n",
              "    }\n",
              "  }\n",
              "</style>\n",
              "\n",
              "  <script>\n",
              "    async function quickchart(key) {\n",
              "      const quickchartButtonEl =\n",
              "        document.querySelector('#' + key + ' button');\n",
              "      quickchartButtonEl.disabled = true;  // To prevent multiple clicks.\n",
              "      quickchartButtonEl.classList.add('colab-df-spinner');\n",
              "      try {\n",
              "        const charts = await google.colab.kernel.invokeFunction(\n",
              "            'suggestCharts', [key], {});\n",
              "      } catch (error) {\n",
              "        console.error('Error during call to suggestCharts:', error);\n",
              "      }\n",
              "      quickchartButtonEl.classList.remove('colab-df-spinner');\n",
              "      quickchartButtonEl.classList.add('colab-df-quickchart-complete');\n",
              "    }\n",
              "    (() => {\n",
              "      let quickchartButtonEl =\n",
              "        document.querySelector('#df-80d26fc2-c9a7-4f9e-a9ac-05a0d36397c9 button');\n",
              "      quickchartButtonEl.style.display =\n",
              "        google.colab.kernel.accessAllowed ? 'block' : 'none';\n",
              "    })();\n",
              "  </script>\n",
              "</div>\n",
              "\n",
              "    </div>\n",
              "  </div>\n"
            ],
            "application/vnd.google.colaboratory.intrinsic+json": {
              "type": "dataframe",
              "variable_name": "df",
              "summary": "{\n  \"name\": \"df\",\n  \"rows\": 18916,\n  \"fields\": [\n    {\n      \"column\": \"ID\",\n      \"properties\": {\n        \"dtype\": \"number\",\n        \"std\": 5460,\n        \"min\": 1,\n        \"max\": 18916,\n        \"num_unique_values\": 18916,\n        \"samples\": [\n          5917,\n          2044,\n          8417\n        ],\n        \"semantic_type\": \"\",\n        \"description\": \"\"\n      }\n    },\n    {\n      \"column\": \"OPEID\",\n      \"properties\": {\n        \"dtype\": \"number\",\n        \"std\": 47069,\n        \"min\": 102000,\n        \"max\": 270700,\n        \"num_unique_values\": 166,\n        \"samples\": [\n          195000,\n          229200,\n          173700\n        ],\n        \"semantic_type\": \"\",\n        \"description\": \"\"\n      }\n    },\n    {\n      \"column\": \"Institution Name\",\n      \"properties\": {\n        \"dtype\": \"category\",\n        \"num_unique_values\": 167,\n        \"samples\": [\n          \"Campbellsville University\",\n          \"Bates College\",\n          \"Northern Illinois University\"\n        ],\n        \"semantic_type\": \"\",\n        \"description\": \"\"\n      }\n    },\n    {\n      \"column\": \"City\",\n      \"properties\": {\n        \"dtype\": \"category\",\n        \"num_unique_values\": 139,\n        \"samples\": [\n          \"Garden City\",\n          \"DeKalb\",\n          \"Irvine\"\n        ],\n        \"semantic_type\": \"\",\n        \"description\": \"\"\n      }\n    },\n    {\n      \"column\": \"State\",\n      \"properties\": {\n        \"dtype\": \"category\",\n        \"num_unique_values\": 31,\n        \"samples\": [\n          \"NH\",\n          \"IA\",\n          \"MN\"\n        ],\n        \"semantic_type\": \"\",\n        \"description\": \"\"\n      }\n    },\n    {\n      \"column\": \"Foreign Gift Received Date\",\n      \"properties\": {\n        \"dtype\": \"number\",\n        \"std\": 646.8254555869897,\n        \"min\": 41640.0,\n        \"max\": 44012.0,\n        \"num_unique_values\": 1873,\n        \"samples\": [\n          43576.0,\n          43685.0,\n          42677.0\n        ],\n        \"semantic_type\": \"\",\n        \"description\": \"\"\n      }\n    },\n    {\n      \"column\": \"Foreign Gift Amount\",\n      \"properties\": {\n        \"dtype\": \"number\",\n        \"std\": 2167426.952485945,\n        \"min\": -537770.0,\n        \"max\": 99999999.0,\n        \"num_unique_values\": 10571,\n        \"samples\": [\n          294.0,\n          212879.0,\n          589723.0\n        ],\n        \"semantic_type\": \"\",\n        \"description\": \"\"\n      }\n    },\n    {\n      \"column\": \"Gift Type\",\n      \"properties\": {\n        \"dtype\": \"category\",\n        \"num_unique_values\": 3,\n        \"samples\": [\n          \"Monetary Gift\",\n          \"Contract\",\n          \"Real Estate\"\n        ],\n        \"semantic_type\": \"\",\n        \"description\": \"\"\n      }\n    },\n    {\n      \"column\": \"Country of Giftor\",\n      \"properties\": {\n        \"dtype\": \"category\",\n        \"num_unique_values\": 148,\n        \"samples\": [\n          \"SLOVAKIA\",\n          \"HONG KONG\",\n          \"MOROCCO\"\n        ],\n        \"semantic_type\": \"\",\n        \"description\": \"\"\n      }\n    },\n    {\n      \"column\": \"Giftor Name\",\n      \"properties\": {\n        \"dtype\": \"category\",\n        \"num_unique_values\": 6803,\n        \"samples\": [\n          \"FUHRMAN, RANDY\",\n          \"Paola\",\n          \"BOON, DAVID\"\n        ],\n        \"semantic_type\": \"\",\n        \"description\": \"\"\n      }\n    }\n  ]\n}"
            }
          },
          "metadata": {},
          "execution_count": 4
        }
      ]
    },
    {
      "cell_type": "markdown",
      "source": [
        "####Problem 1.2: For Foreign Gift Amount, create a histogram and describe the variable. Describe your findings."
      ],
      "metadata": {
        "id": "WhaB7g8-J45m"
      }
    },
    {
      "cell_type": "code",
      "source": [
        "#2\n",
        "plt.hist(df['Foreign Gift Amount'])\n",
        "plt.show()\n",
        "df['Foreign Gift Amount'].describe()"
      ],
      "metadata": {
        "colab": {
          "base_uri": "https://localhost:8080/",
          "height": 766
        },
        "id": "QVodtZB7JV2L",
        "outputId": "42128015-27a2-4ebe-d8cb-197baa18360d"
      },
      "execution_count": 5,
      "outputs": [
        {
          "output_type": "display_data",
          "data": {
            "text/plain": [
              "<Figure size 640x480 with 1 Axes>"
            ],
            "image/png": "[encoded data removed]"
          },
          "metadata": {}
        },
        {
          "output_type": "execute_result",
          "data": {
            "text/plain": [
              "count    1.891500e+04\n",
              "mean     5.053115e+05\n",
              "std      2.167427e+06\n",
              "min     -5.377700e+05\n",
              "25%      2.741500e+03\n",
              "50%      7.598000e+04\n",
              "75%      3.629905e+05\n",
              "max      1.000000e+08\n",
              "Name: Foreign Gift Amount, dtype: float64"
            ],
            "text/html": [
              "<div>\n",
              "<style scoped>\n",
              "    .dataframe tbody tr th:only-of-type {\n",
              "        vertical-align: middle;\n",
              "    }\n",
              "\n",
              "    .dataframe tbody tr th {\n",
              "        vertical-align: top;\n",
              "    }\n",
              "\n",
              "    .dataframe thead th {\n",
              "        text-align: right;\n",
              "    }\n",
              "</style>\n",
              "<table border=\"1\" class=\"dataframe\">\n",
              "  <thead>\n",
              "    <tr style=\"text-align: right;\">\n",
              "      <th></th>\n",
              "      <th>Foreign Gift Amount</th>\n",
              "    </tr>\n",
              "  </thead>\n",
              "  <tbody>\n",
              "    <tr>\n",
              "      <th>count</th>\n",
              "      <td>1.891500e+04</td>\n",
              "    </tr>\n",
              "    <tr>\n",
              "      <th>mean</th>\n",
              "      <td>5.053115e+05</td>\n",
              "    </tr>\n",
              "    <tr>\n",
              "      <th>std</th>\n",
              "      <td>2.167427e+06</td>\n",
              "    </tr>\n",
              "    <tr>\n",
              "      <th>min</th>\n",
              "      <td>-5.377700e+05</td>\n",
              "    </tr>\n",
              "    <tr>\n",
              "      <th>25%</th>\n",
              "      <td>2.741500e+03</td>\n",
              "    </tr>\n",
              "    <tr>\n",
              "      <th>50%</th>\n",
              "      <td>7.598000e+04</td>\n",
              "    </tr>\n",
              "    <tr>\n",
              "      <th>75%</th>\n",
              "      <td>3.629905e+05</td>\n",
              "    </tr>\n",
              "    <tr>\n",
              "      <th>max</th>\n",
              "      <td>1.000000e+08</td>\n",
              "    </tr>\n",
              "  </tbody>\n",
              "</table>\n",
              "</div><br><label><b>dtype:</b> float64</label>"
            ]
          },
          "metadata": {},
          "execution_count": 5
        }
      ]
    },
    {
      "cell_type": "markdown",
      "source": [
        "\n",
        "\n",
        "10% of Foreign gifts are a little under 30,000 dollars. The max gift amount being 100 million and the minimum being a payment of -537,770 dollars. The average payment is 588,232.70 dollars."
      ],
      "metadata": {
        "id": "slA0mz_oIbk5"
      }
    },
    {
      "cell_type": "markdown",
      "source": [
        "####Problem 1.3: For Gift Type, create a histogram or value counts table. What proportion of the gifts are contracts, real estate, and monetary gifts?"
      ],
      "metadata": {
        "id": "AyW1PsZlKD4r"
      }
    },
    {
      "cell_type": "code",
      "source": [
        "df['Gift Type'].value_counts()"
      ],
      "metadata": {
        "colab": {
          "base_uri": "https://localhost:8080/",
          "height": 210
        },
        "id": "fBlxb2kmJ3Q2",
        "outputId": "2cf1a236-6f62-466e-ff50-03cccca5b489"
      },
      "execution_count": 6,
      "outputs": [
        {
          "output_type": "execute_result",
          "data": {
            "text/plain": [
              "Gift Type\n",
              "Contract         10373\n",
              "Monetary Gift     8540\n",
              "Real Estate          2\n",
              "Name: count, dtype: int64"
            ],
            "text/html": [
              "<div>\n",
              "<style scoped>\n",
              "    .dataframe tbody tr th:only-of-type {\n",
              "        vertical-align: middle;\n",
              "    }\n",
              "\n",
              "    .dataframe tbody tr th {\n",
              "        vertical-align: top;\n",
              "    }\n",
              "\n",
              "    .dataframe thead th {\n",
              "        text-align: right;\n",
              "    }\n",
              "</style>\n",
              "<table border=\"1\" class=\"dataframe\">\n",
              "  <thead>\n",
              "    <tr style=\"text-align: right;\">\n",
              "      <th></th>\n",
              "      <th>count</th>\n",
              "    </tr>\n",
              "    <tr>\n",
              "      <th>Gift Type</th>\n",
              "      <th></th>\n",
              "    </tr>\n",
              "  </thead>\n",
              "  <tbody>\n",
              "    <tr>\n",
              "      <th>Contract</th>\n",
              "      <td>10373</td>\n",
              "    </tr>\n",
              "    <tr>\n",
              "      <th>Monetary Gift</th>\n",
              "      <td>8540</td>\n",
              "    </tr>\n",
              "    <tr>\n",
              "      <th>Real Estate</th>\n",
              "      <td>2</td>\n",
              "    </tr>\n",
              "  </tbody>\n",
              "</table>\n",
              "</div><br><label><b>dtype:</b> int64</label>"
            ]
          },
          "metadata": {},
          "execution_count": 6
        }
      ]
    },
    {
      "cell_type": "code",
      "source": [
        "len(df)"
      ],
      "metadata": {
        "id": "71yalrmZKzzw",
        "colab": {
          "base_uri": "https://localhost:8080/"
        },
        "outputId": "f32809f2-551d-4f8d-87df-09f2c58c17e3"
      },
      "execution_count": 7,
      "outputs": [
        {
          "output_type": "execute_result",
          "data": {
            "text/plain": [
              "18916"
            ]
          },
          "metadata": {},
          "execution_count": 7
        }
      ]
    },
    {
      "cell_type": "code",
      "source": [
        "#Shows the proportion of the gifts that are contracts, real estate,and monetary gifts\n",
        "(df['Gift Type'].value_counts()/28221) * 100"
      ],
      "metadata": {
        "id": "LaQ10y9BJ3Nx",
        "colab": {
          "base_uri": "https://localhost:8080/",
          "height": 210
        },
        "outputId": "59cbefc6-9813-4915-b3b9-a0051c0df849"
      },
      "execution_count": 8,
      "outputs": [
        {
          "output_type": "execute_result",
          "data": {
            "text/plain": [
              "Gift Type\n",
              "Contract         36.756316\n",
              "Monetary Gift    30.261153\n",
              "Real Estate       0.007087\n",
              "Name: count, dtype: float64"
            ],
            "text/html": [
              "<div>\n",
              "<style scoped>\n",
              "    .dataframe tbody tr th:only-of-type {\n",
              "        vertical-align: middle;\n",
              "    }\n",
              "\n",
              "    .dataframe tbody tr th {\n",
              "        vertical-align: top;\n",
              "    }\n",
              "\n",
              "    .dataframe thead th {\n",
              "        text-align: right;\n",
              "    }\n",
              "</style>\n",
              "<table border=\"1\" class=\"dataframe\">\n",
              "  <thead>\n",
              "    <tr style=\"text-align: right;\">\n",
              "      <th></th>\n",
              "      <th>count</th>\n",
              "    </tr>\n",
              "    <tr>\n",
              "      <th>Gift Type</th>\n",
              "      <th></th>\n",
              "    </tr>\n",
              "  </thead>\n",
              "  <tbody>\n",
              "    <tr>\n",
              "      <th>Contract</th>\n",
              "      <td>36.756316</td>\n",
              "    </tr>\n",
              "    <tr>\n",
              "      <th>Monetary Gift</th>\n",
              "      <td>30.261153</td>\n",
              "    </tr>\n",
              "    <tr>\n",
              "      <th>Real Estate</th>\n",
              "      <td>0.007087</td>\n",
              "    </tr>\n",
              "  </tbody>\n",
              "</table>\n",
              "</div><br><label><b>dtype:</b> float64</label>"
            ]
          },
          "metadata": {},
          "execution_count": 8
        }
      ]
    },
    {
      "cell_type": "markdown",
      "source": [
        "####Problem 1.4: Create a kernel density plot of the log of Foreign Gift Amount, and then a kernel density plot of the log of Foreign Gift Amount conditional on gift type. Do you notice any patterns?"
      ],
      "metadata": {
        "id": "m4rVCeMNLMLn"
      }
    },
    {
      "cell_type": "code",
      "source": [
        "sns.kdeplot(data=df,x='Foreign Gift Amount')"
      ],
      "metadata": {
        "colab": {
          "base_uri": "https://localhost:8080/",
          "height": 483
        },
        "id": "PGKG7gxlLPyj",
        "outputId": "5c8b46e5-c227-4262-ac46-f5057b528d2e"
      },
      "execution_count": 9,
      "outputs": [
        {
          "output_type": "execute_result",
          "data": {
            "text/plain": [
              "<Axes: xlabel='Foreign Gift Amount', ylabel='Density'>"
            ]
          },
          "metadata": {},
          "execution_count": 9
        },
        {
          "output_type": "display_data",
          "data": {
            "text/plain": [
              "<Figure size 640x480 with 1 Axes>"
            ],
            "image/png": "[encoded data removed]"
          },
          "metadata": {}
        }
      ]
    },
    {
      "cell_type": "code",
      "source": [
        "df['Foreign Gift Amount Log'] = np.log(df['Foreign Gift Amount'])\n",
        "sns.kdeplot(data=df,x= 'Foreign Gift Amount Log')"
      ],
      "metadata": {
        "colab": {
          "base_uri": "https://localhost:8080/",
          "height": 526
        },
        "id": "YiUgEapOMIcF",
        "outputId": "ac1dd55b-8e34-45e1-a01c-299c47b92440"
      },
      "execution_count": 10,
      "outputs": [
        {
          "output_type": "stream",
          "name": "stderr",
          "text": [
            "/usr/local/lib/python3.11/dist-packages/pandas/core/arraylike.py:399: RuntimeWarning: invalid value encountered in log\n",
            "  result = getattr(ufunc, method)(*inputs, **kwargs)\n"
          ]
        },
        {
          "output_type": "execute_result",
          "data": {
            "text/plain": [
              "<Axes: xlabel='Foreign Gift Amount Log', ylabel='Density'>"
            ]
          },
          "metadata": {},
          "execution_count": 10
        },
        {
          "output_type": "display_data",
          "data": {
            "text/plain": [
              "<Figure size 640x480 with 1 Axes>"
            ],
            "image/png": "[encoded data removed]"
          },
          "metadata": {}
        }
      ]
    },
    {
      "cell_type": "markdown",
      "source": [
        "The trend that is shared between both kernel density plots is that they both have a highly dense peak and a parabola shape."
      ],
      "metadata": {
        "id": "dhDqCj4UNF9C"
      }
    },
    {
      "cell_type": "markdown",
      "source": [
        "####Problem 1.5: What are the top 15 countries in terms of the number of gifts? What are the top 15 countries in terms of the amount given?"
      ],
      "metadata": {
        "id": "FiILt42mNhyH"
      }
    },
    {
      "cell_type": "code",
      "source": [
        "#Top 15 Countries ranked by the Number of Gifts\n",
        "df.groupby('Country of Giftor')['Country of Giftor'].count().sort_values(ascending=False).head(15)"
      ],
      "metadata": {
        "colab": {
          "base_uri": "https://localhost:8080/",
          "height": 586
        },
        "id": "S0mF6YtTRQfd",
        "outputId": "1798b367-2998-491c-eacf-d9e6050bbbfc"
      },
      "execution_count": 11,
      "outputs": [
        {
          "output_type": "execute_result",
          "data": {
            "text/plain": [
              "Country of Giftor\n",
              "ENGLAND         2660\n",
              "CHINA           1714\n",
              "CANADA          1702\n",
              "JAPAN           1471\n",
              "SAUDI ARABIA    1134\n",
              "FRANCE           990\n",
              "GERMANY          867\n",
              "SWITZERLAND      851\n",
              "HONG KONG        807\n",
              "SOUTH KOREA      661\n",
              "KOREA            396\n",
              "TAIWAN           281\n",
              "AUSTRALIA        273\n",
              "ISRAEL           272\n",
              "INDIA            248\n",
              "Name: Country of Giftor, dtype: int64"
            ],
            "text/html": [
              "<div>\n",
              "<style scoped>\n",
              "    .dataframe tbody tr th:only-of-type {\n",
              "        vertical-align: middle;\n",
              "    }\n",
              "\n",
              "    .dataframe tbody tr th {\n",
              "        vertical-align: top;\n",
              "    }\n",
              "\n",
              "    .dataframe thead th {\n",
              "        text-align: right;\n",
              "    }\n",
              "</style>\n",
              "<table border=\"1\" class=\"dataframe\">\n",
              "  <thead>\n",
              "    <tr style=\"text-align: right;\">\n",
              "      <th></th>\n",
              "      <th>Country of Giftor</th>\n",
              "    </tr>\n",
              "    <tr>\n",
              "      <th>Country of Giftor</th>\n",
              "      <th></th>\n",
              "    </tr>\n",
              "  </thead>\n",
              "  <tbody>\n",
              "    <tr>\n",
              "      <th>ENGLAND</th>\n",
              "      <td>2660</td>\n",
              "    </tr>\n",
              "    <tr>\n",
              "      <th>CHINA</th>\n",
              "      <td>1714</td>\n",
              "    </tr>\n",
              "    <tr>\n",
              "      <th>CANADA</th>\n",
              "      <td>1702</td>\n",
              "    </tr>\n",
              "    <tr>\n",
              "      <th>JAPAN</th>\n",
              "      <td>1471</td>\n",
              "    </tr>\n",
              "    <tr>\n",
              "      <th>SAUDI ARABIA</th>\n",
              "      <td>1134</td>\n",
              "    </tr>\n",
              "    <tr>\n",
              "      <th>FRANCE</th>\n",
              "      <td>990</td>\n",
              "    </tr>\n",
              "    <tr>\n",
              "      <th>GERMANY</th>\n",
              "      <td>867</td>\n",
              "    </tr>\n",
              "    <tr>\n",
              "      <th>SWITZERLAND</th>\n",
              "      <td>851</td>\n",
              "    </tr>\n",
              "    <tr>\n",
              "      <th>HONG KONG</th>\n",
              "      <td>807</td>\n",
              "    </tr>\n",
              "    <tr>\n",
              "      <th>SOUTH KOREA</th>\n",
              "      <td>661</td>\n",
              "    </tr>\n",
              "    <tr>\n",
              "      <th>KOREA</th>\n",
              "      <td>396</td>\n",
              "    </tr>\n",
              "    <tr>\n",
              "      <th>TAIWAN</th>\n",
              "      <td>281</td>\n",
              "    </tr>\n",
              "    <tr>\n",
              "      <th>AUSTRALIA</th>\n",
              "      <td>273</td>\n",
              "    </tr>\n",
              "    <tr>\n",
              "      <th>ISRAEL</th>\n",
              "      <td>272</td>\n",
              "    </tr>\n",
              "    <tr>\n",
              "      <th>INDIA</th>\n",
              "      <td>248</td>\n",
              "    </tr>\n",
              "  </tbody>\n",
              "</table>\n",
              "</div><br><label><b>dtype:</b> int64</label>"
            ]
          },
          "metadata": {},
          "execution_count": 11
        }
      ]
    },
    {
      "cell_type": "code",
      "source": [
        "#Top 15 Countries ranked by Total Amount Given\n",
        "df.groupby('Country of Giftor')['Foreign Gift Amount'].sum().sort_values(ascending=False).head(15)"
      ],
      "metadata": {
        "colab": {
          "base_uri": "https://localhost:8080/",
          "height": 586
        },
        "id": "ouAQYtwdRkTD",
        "outputId": "64e7cd0f-3029-4fe8-e73e-506cd1c53e3c"
      },
      "execution_count": 12,
      "outputs": [
        {
          "output_type": "execute_result",
          "data": {
            "text/plain": [
              "Country of Giftor\n",
              "ENGLAND                 1.083906e+09\n",
              "CHINA                   8.325224e+08\n",
              "SAUDI ARABIA            7.526359e+08\n",
              "HONG KONG               6.963211e+08\n",
              "QATAR                   6.608038e+08\n",
              "CANADA                  5.051004e+08\n",
              "JAPAN                   4.572769e+08\n",
              "SWITZERLAND             4.082030e+08\n",
              "SINGAPORE               3.426400e+08\n",
              "UNITED ARAB EMIRATES    3.196948e+08\n",
              "GERMANY                 3.004261e+08\n",
              "AUSTRALIA               2.356895e+08\n",
              "INDIA                   2.123853e+08\n",
              "FRANCE                  1.917187e+08\n",
              "KUWAIT                  1.873442e+08\n",
              "Name: Foreign Gift Amount, dtype: float64"
            ],
            "text/html": [
              "<div>\n",
              "<style scoped>\n",
              "    .dataframe tbody tr th:only-of-type {\n",
              "        vertical-align: middle;\n",
              "    }\n",
              "\n",
              "    .dataframe tbody tr th {\n",
              "        vertical-align: top;\n",
              "    }\n",
              "\n",
              "    .dataframe thead th {\n",
              "        text-align: right;\n",
              "    }\n",
              "</style>\n",
              "<table border=\"1\" class=\"dataframe\">\n",
              "  <thead>\n",
              "    <tr style=\"text-align: right;\">\n",
              "      <th></th>\n",
              "      <th>Foreign Gift Amount</th>\n",
              "    </tr>\n",
              "    <tr>\n",
              "      <th>Country of Giftor</th>\n",
              "      <th></th>\n",
              "    </tr>\n",
              "  </thead>\n",
              "  <tbody>\n",
              "    <tr>\n",
              "      <th>ENGLAND</th>\n",
              "      <td>1.083906e+09</td>\n",
              "    </tr>\n",
              "    <tr>\n",
              "      <th>CHINA</th>\n",
              "      <td>8.325224e+08</td>\n",
              "    </tr>\n",
              "    <tr>\n",
              "      <th>SAUDI ARABIA</th>\n",
              "      <td>7.526359e+08</td>\n",
              "    </tr>\n",
              "    <tr>\n",
              "      <th>HONG KONG</th>\n",
              "      <td>6.963211e+08</td>\n",
              "    </tr>\n",
              "    <tr>\n",
              "      <th>QATAR</th>\n",
              "      <td>6.608038e+08</td>\n",
              "    </tr>\n",
              "    <tr>\n",
              "      <th>CANADA</th>\n",
              "      <td>5.051004e+08</td>\n",
              "    </tr>\n",
              "    <tr>\n",
              "      <th>JAPAN</th>\n",
              "      <td>4.572769e+08</td>\n",
              "    </tr>\n",
              "    <tr>\n",
              "      <th>SWITZERLAND</th>\n",
              "      <td>4.082030e+08</td>\n",
              "    </tr>\n",
              "    <tr>\n",
              "      <th>SINGAPORE</th>\n",
              "      <td>3.426400e+08</td>\n",
              "    </tr>\n",
              "    <tr>\n",
              "      <th>UNITED ARAB EMIRATES</th>\n",
              "      <td>3.196948e+08</td>\n",
              "    </tr>\n",
              "    <tr>\n",
              "      <th>GERMANY</th>\n",
              "      <td>3.004261e+08</td>\n",
              "    </tr>\n",
              "    <tr>\n",
              "      <th>AUSTRALIA</th>\n",
              "      <td>2.356895e+08</td>\n",
              "    </tr>\n",
              "    <tr>\n",
              "      <th>INDIA</th>\n",
              "      <td>2.123853e+08</td>\n",
              "    </tr>\n",
              "    <tr>\n",
              "      <th>FRANCE</th>\n",
              "      <td>1.917187e+08</td>\n",
              "    </tr>\n",
              "    <tr>\n",
              "      <th>KUWAIT</th>\n",
              "      <td>1.873442e+08</td>\n",
              "    </tr>\n",
              "  </tbody>\n",
              "</table>\n",
              "</div><br><label><b>dtype:</b> float64</label>"
            ]
          },
          "metadata": {},
          "execution_count": 12
        }
      ]
    },
    {
      "cell_type": "markdown",
      "source": [
        "####Problem 1.6: What are the top 15 institutions in terms of the total amount of money they receive? Make a histogram of the total amount received by all institutions."
      ],
      "metadata": {
        "id": "poZWzhCjSiZe"
      }
    },
    {
      "cell_type": "code",
      "source": [
        "#Ranking Top 15 Institutions by Total Amount of Money they Recieve\n",
        "df.groupby('Institution Name')['Foreign Gift Amount'].sum().sort_values(ascending=False).head(15)"
      ],
      "metadata": {
        "colab": {
          "base_uri": "https://localhost:8080/",
          "height": 586
        },
        "id": "F3fqZHq7SqQz",
        "outputId": "7b3c9a79-a66b-4283-eeee-529923dba285"
      },
      "execution_count": 13,
      "outputs": [
        {
          "output_type": "execute_result",
          "data": {
            "text/plain": [
              "Institution Name\n",
              "Harvard University                       954803610.0\n",
              "Massachusetts Institute of Technology    859071692.0\n",
              "Yale University                          613441311.0\n",
              "Johns Hopkins University                 502409595.0\n",
              "Northwestern University                  402316221.0\n",
              "Georgetown University                    379950511.0\n",
              "University of Chicago (The)              364544338.0\n",
              "University of Colorado Boulder           360173159.0\n",
              "Stanford University                      319561362.0\n",
              "University of Southern California        297018636.0\n",
              "University of California, Berkeley       294479904.0\n",
              "University of Michigan - Ann Arbor       287336783.0\n",
              "University of California, Los Angeles    242146363.0\n",
              "Northeastern University                  210008293.0\n",
              "Boston University                        208481283.0\n",
              "Name: Foreign Gift Amount, dtype: float64"
            ],
            "text/html": [
              "<div>\n",
              "<style scoped>\n",
              "    .dataframe tbody tr th:only-of-type {\n",
              "        vertical-align: middle;\n",
              "    }\n",
              "\n",
              "    .dataframe tbody tr th {\n",
              "        vertical-align: top;\n",
              "    }\n",
              "\n",
              "    .dataframe thead th {\n",
              "        text-align: right;\n",
              "    }\n",
              "</style>\n",
              "<table border=\"1\" class=\"dataframe\">\n",
              "  <thead>\n",
              "    <tr style=\"text-align: right;\">\n",
              "      <th></th>\n",
              "      <th>Foreign Gift Amount</th>\n",
              "    </tr>\n",
              "    <tr>\n",
              "      <th>Institution Name</th>\n",
              "      <th></th>\n",
              "    </tr>\n",
              "  </thead>\n",
              "  <tbody>\n",
              "    <tr>\n",
              "      <th>Harvard University</th>\n",
              "      <td>954803610.0</td>\n",
              "    </tr>\n",
              "    <tr>\n",
              "      <th>Massachusetts Institute of Technology</th>\n",
              "      <td>859071692.0</td>\n",
              "    </tr>\n",
              "    <tr>\n",
              "      <th>Yale University</th>\n",
              "      <td>613441311.0</td>\n",
              "    </tr>\n",
              "    <tr>\n",
              "      <th>Johns Hopkins University</th>\n",
              "      <td>502409595.0</td>\n",
              "    </tr>\n",
              "    <tr>\n",
              "      <th>Northwestern University</th>\n",
              "      <td>402316221.0</td>\n",
              "    </tr>\n",
              "    <tr>\n",
              "      <th>Georgetown University</th>\n",
              "      <td>379950511.0</td>\n",
              "    </tr>\n",
              "    <tr>\n",
              "      <th>University of Chicago (The)</th>\n",
              "      <td>364544338.0</td>\n",
              "    </tr>\n",
              "    <tr>\n",
              "      <th>University of Colorado Boulder</th>\n",
              "      <td>360173159.0</td>\n",
              "    </tr>\n",
              "    <tr>\n",
              "      <th>Stanford University</th>\n",
              "      <td>319561362.0</td>\n",
              "    </tr>\n",
              "    <tr>\n",
              "      <th>University of Southern California</th>\n",
              "      <td>297018636.0</td>\n",
              "    </tr>\n",
              "    <tr>\n",
              "      <th>University of California, Berkeley</th>\n",
              "      <td>294479904.0</td>\n",
              "    </tr>\n",
              "    <tr>\n",
              "      <th>University of Michigan - Ann Arbor</th>\n",
              "      <td>287336783.0</td>\n",
              "    </tr>\n",
              "    <tr>\n",
              "      <th>University of California, Los Angeles</th>\n",
              "      <td>242146363.0</td>\n",
              "    </tr>\n",
              "    <tr>\n",
              "      <th>Northeastern University</th>\n",
              "      <td>210008293.0</td>\n",
              "    </tr>\n",
              "    <tr>\n",
              "      <th>Boston University</th>\n",
              "      <td>208481283.0</td>\n",
              "    </tr>\n",
              "  </tbody>\n",
              "</table>\n",
              "</div><br><label><b>dtype:</b> float64</label>"
            ]
          },
          "metadata": {},
          "execution_count": 13
        }
      ]
    },
    {
      "cell_type": "code",
      "source": [
        "institutiongiftstotal = df.groupby('Institution Name')['Foreign Gift Amount'].sum()\n",
        "plt.hist(institutiongiftstotal, bins=20)"
      ],
      "metadata": {
        "colab": {
          "base_uri": "https://localhost:8080/",
          "height": 609
        },
        "id": "SDbuaVswS_cm",
        "outputId": "7740aac3-754a-44c2-ef28-b2d82db92791"
      },
      "execution_count": 14,
      "outputs": [
        {
          "output_type": "execute_result",
          "data": {
            "text/plain": [
              "(array([131.,  14.,   4.,   3.,   2.,   1.,   4.,   3.,   1.,   0.,   1.,\n",
              "          0.,   1.,   0.,   0.,   0.,   0.,   1.,   0.,   1.]),\n",
              " array([0.00000000e+00, 4.77401805e+07, 9.54803610e+07, 1.43220542e+08,\n",
              "        1.90960722e+08, 2.38700902e+08, 2.86441083e+08, 3.34181264e+08,\n",
              "        3.81921444e+08, 4.29661624e+08, 4.77401805e+08, 5.25141986e+08,\n",
              "        5.72882166e+08, 6.20622346e+08, 6.68362527e+08, 7.16102708e+08,\n",
              "        7.63842888e+08, 8.11583068e+08, 8.59323249e+08, 9.07063430e+08,\n",
              "        9.54803610e+08]),\n",
              " <BarContainer object of 20 artists>)"
            ]
          },
          "metadata": {},
          "execution_count": 14
        },
        {
          "output_type": "display_data",
          "data": {
            "text/plain": [
              "<Figure size 640x480 with 1 Axes>"
            ],
            "image/png": "[encoded data removed]"
          },
          "metadata": {}
        }
      ]
    },
    {
      "cell_type": "markdown",
      "source": [
        "####Problem 1.7: Which giftors provide the most money, in total?"
      ],
      "metadata": {
        "id": "JsnGgDPoUNbX"
      }
    },
    {
      "cell_type": "code",
      "source": [
        "df.groupby('Giftor Name')['Foreign Gift Amount'].sum().sort_values(ascending=False).head(15)"
      ],
      "metadata": {
        "colab": {
          "base_uri": "https://localhost:8080/",
          "height": 586
        },
        "id": "7NGx-krzUUN5",
        "outputId": "3c0f8e90-5348-4a71-d87d-8d6d672ce0f3"
      },
      "execution_count": 15,
      "outputs": [
        {
          "output_type": "execute_result",
          "data": {
            "text/plain": [
              "Giftor Name\n",
              "Qatar Foundation                       622486972.0\n",
              "Saudi Arabian Cultural Mission         189535645.0\n",
              "Emirates Institute for Advanced Sc     170641244.0\n",
              "QIC                                    148355497.0\n",
              "Anonymous #9                            96334996.0\n",
              "Government of Saudi Arabia              75192434.0\n",
              "Contracting Party                       69996984.0\n",
              "Church of Jesus Christ of LDS           69372022.0\n",
              "Saudi Arabia                            52172896.0\n",
              "Skolkovo Foundation                     51500000.0\n",
              "Stavros S. Niarchos Foundation          47600000.0\n",
              "Donor                                   44155215.0\n",
              "EMIRATES INSTITUTION FOR ADVANCED S     43021197.0\n",
              "Mr. Mohammed A. Jameel                  43000000.0\n",
              "Republic of Iraq, Higher Committee      42703805.0\n",
              "Name: Foreign Gift Amount, dtype: float64"
            ],
            "text/html": [
              "<div>\n",
              "<style scoped>\n",
              "    .dataframe tbody tr th:only-of-type {\n",
              "        vertical-align: middle;\n",
              "    }\n",
              "\n",
              "    .dataframe tbody tr th {\n",
              "        vertical-align: top;\n",
              "    }\n",
              "\n",
              "    .dataframe thead th {\n",
              "        text-align: right;\n",
              "    }\n",
              "</style>\n",
              "<table border=\"1\" class=\"dataframe\">\n",
              "  <thead>\n",
              "    <tr style=\"text-align: right;\">\n",
              "      <th></th>\n",
              "      <th>Foreign Gift Amount</th>\n",
              "    </tr>\n",
              "    <tr>\n",
              "      <th>Giftor Name</th>\n",
              "      <th></th>\n",
              "    </tr>\n",
              "  </thead>\n",
              "  <tbody>\n",
              "    <tr>\n",
              "      <th>Qatar Foundation</th>\n",
              "      <td>622486972.0</td>\n",
              "    </tr>\n",
              "    <tr>\n",
              "      <th>Saudi Arabian Cultural Mission</th>\n",
              "      <td>189535645.0</td>\n",
              "    </tr>\n",
              "    <tr>\n",
              "      <th>Emirates Institute for Advanced Sc</th>\n",
              "      <td>170641244.0</td>\n",
              "    </tr>\n",
              "    <tr>\n",
              "      <th>QIC</th>\n",
              "      <td>148355497.0</td>\n",
              "    </tr>\n",
              "    <tr>\n",
              "      <th>Anonymous #9</th>\n",
              "      <td>96334996.0</td>\n",
              "    </tr>\n",
              "    <tr>\n",
              "      <th>Government of Saudi Arabia</th>\n",
              "      <td>75192434.0</td>\n",
              "    </tr>\n",
              "    <tr>\n",
              "      <th>Contracting Party</th>\n",
              "      <td>69996984.0</td>\n",
              "    </tr>\n",
              "    <tr>\n",
              "      <th>Church of Jesus Christ of LDS</th>\n",
              "      <td>69372022.0</td>\n",
              "    </tr>\n",
              "    <tr>\n",
              "      <th>Saudi Arabia</th>\n",
              "      <td>52172896.0</td>\n",
              "    </tr>\n",
              "    <tr>\n",
              "      <th>Skolkovo Foundation</th>\n",
              "      <td>51500000.0</td>\n",
              "    </tr>\n",
              "    <tr>\n",
              "      <th>Stavros S. Niarchos Foundation</th>\n",
              "      <td>47600000.0</td>\n",
              "    </tr>\n",
              "    <tr>\n",
              "      <th>Donor</th>\n",
              "      <td>44155215.0</td>\n",
              "    </tr>\n",
              "    <tr>\n",
              "      <th>EMIRATES INSTITUTION FOR ADVANCED S</th>\n",
              "      <td>43021197.0</td>\n",
              "    </tr>\n",
              "    <tr>\n",
              "      <th>Mr. Mohammed A. Jameel</th>\n",
              "      <td>43000000.0</td>\n",
              "    </tr>\n",
              "    <tr>\n",
              "      <th>Republic of Iraq, Higher Committee</th>\n",
              "      <td>42703805.0</td>\n",
              "    </tr>\n",
              "  </tbody>\n",
              "</table>\n",
              "</div><br><label><b>dtype:</b> float64</label>"
            ]
          },
          "metadata": {},
          "execution_count": 15
        }
      ]
    },
    {
      "cell_type": "markdown",
      "source": [
        "The Qatar foundation makes up the top three donors in foreign gift amount."
      ],
      "metadata": {
        "id": "19K-7TgFUcfr"
      }
    },
    {
      "cell_type": "markdown",
      "metadata": {
        "id": "XfsxDqg9If5S"
      },
      "source": [
        "**Q3.** This question uses the Airbnb data to practice making visualizations.\n",
        "\n",
        "  1. Load the `./data/airbnb_hw.csv` data with Pandas. This provides a dataset of AirBnB rental properties for New York City.  \n",
        "  2. What are are the dimensions of the data? How many observations are there? What are the variables included? Use `.head()` to examine the first few rows of data.\n",
        "  3. Cross tabulate `Room Type` and `Property Type`. What patterns do you see in what kinds of rentals are available? For which kinds of properties are private rooms more common than renting the entire property?\n",
        "  4. For `Price`, make a histogram, kernel density, box plot, and a statistical description of the variable. Are the data badly scaled? Are there many outliers? Use `log` to transform price into a new variable, `price_log`, and take these steps again.\n",
        "  5. Make a scatterplot of `price_log` and `Beds`. Describe what you see. Use `.groupby()` to compute a desciption of `Price` conditional on/grouped by the number of beds. Describe any patterns you see in the average price and standard deviation in prices.\n",
        "  6. Make a scatterplot of `price_log` and `Beds`, but color the graph by `Room Type` and `Property Type`. What patterns do you see? Compute a description of `Price` conditional on `Room Type` and `Property Type`. Which Room Type and Property Type have the highest prices on average? Which have the highest standard deviation? Does the mean or median appear to be a more reliable estimate of central tendency, and explain why?\n",
        "  7. We've looked a bit at this `price_log` and `Beds` scatterplot. Use seaborn to make a `jointplot` with `kind=hex`. Where are the data actually distributed? How does it affect the way you think about the plots in 5 and 6?"
      ]
    },
    {
      "cell_type": "markdown",
      "source": [
        "####Problem 3.1: Load the ./data/airbnb_hw.csv data with Pandas. This provides a dataset of AirBnB rental properties for New York City."
      ],
      "metadata": {
        "id": "zL0bZoIQUy_a"
      }
    },
    {
      "cell_type": "code",
      "source": [
        "df = pd.read_csv('/content/airbnb_hw.csv')"
      ],
      "metadata": {
        "id": "uo0nGidVU2LD"
      },
      "execution_count": 16,
      "outputs": []
    },
    {
      "cell_type": "markdown",
      "source": [
        "####Problem 3.2: What are are the dimensions of the data? How many observations are there? What are the variables included? Use .head() to examine the first few rows of data."
      ],
      "metadata": {
        "id": "kI8BvenNVVAM"
      }
    },
    {
      "cell_type": "code",
      "source": [
        "df.shape"
      ],
      "metadata": {
        "colab": {
          "base_uri": "https://localhost:8080/"
        },
        "id": "nDcs7jVVVZDR",
        "outputId": "3ed6cc82-6949-4326-ec3c-2c89b8a4a596"
      },
      "execution_count": 17,
      "outputs": [
        {
          "output_type": "execute_result",
          "data": {
            "text/plain": [
              "(30478, 13)"
            ]
          },
          "metadata": {},
          "execution_count": 17
        }
      ]
    },
    {
      "cell_type": "code",
      "source": [
        "print(30478*13)"
      ],
      "metadata": {
        "colab": {
          "base_uri": "https://localhost:8080/"
        },
        "id": "Y-xql1HCV6u5",
        "outputId": "30481652-af8d-483c-b9f6-a983129748db"
      },
      "execution_count": 18,
      "outputs": [
        {
          "output_type": "stream",
          "name": "stdout",
          "text": [
            "396214\n"
          ]
        }
      ]
    },
    {
      "cell_type": "markdown",
      "source": [
        "The dimensions of the data are 30,478 x 13, meaning there are 396,214 observations"
      ],
      "metadata": {
        "id": "uooFIhLVVeIN"
      }
    },
    {
      "cell_type": "markdown",
      "source": [
        "The variables included are listed below:"
      ],
      "metadata": {
        "id": "Bdj9gPN-WDD3"
      }
    },
    {
      "cell_type": "code",
      "source": [
        "df.columns"
      ],
      "metadata": {
        "colab": {
          "base_uri": "https://localhost:8080/"
        },
        "id": "DtAC8Oc4V_EX",
        "outputId": "46d1cf6e-29f4-4200-cdc2-677b58802480"
      },
      "execution_count": 19,
      "outputs": [
        {
          "output_type": "execute_result",
          "data": {
            "text/plain": [
              "Index(['Host Id', 'Host Since', 'Name', 'Neighbourhood ', 'Property Type',\n",
              "       'Review Scores Rating (bin)', 'Room Type', 'Zipcode', 'Beds',\n",
              "       'Number of Records', 'Number Of Reviews', 'Price',\n",
              "       'Review Scores Rating'],\n",
              "      dtype='object')"
            ]
          },
          "metadata": {},
          "execution_count": 19
        }
      ]
    },
    {
      "cell_type": "code",
      "source": [
        "df.head()"
      ],
      "metadata": {
        "colab": {
          "base_uri": "https://localhost:8080/",
          "height": 469
        },
        "id": "d1rwMDCIWIbH",
        "outputId": "3cad5823-f1a1-4941-fc7d-bcd1dee4c05e"
      },
      "execution_count": 20,
      "outputs": [
        {
          "output_type": "execute_result",
          "data": {
            "text/plain": [
              "    Host Id Host Since                                Name Neighbourhood   \\\n",
              "0   5162530        NaN     1 Bedroom in Prime Williamsburg       Brooklyn   \n",
              "1  33134899        NaN     Sunny, Private room in Bushwick       Brooklyn   \n",
              "2  39608626        NaN                Sunny Room in Harlem      Manhattan   \n",
              "3       500  6/26/2008  Gorgeous 1 BR with Private Balcony      Manhattan   \n",
              "4       500  6/26/2008            Trendy Times Square Loft      Manhattan   \n",
              "\n",
              "  Property Type  Review Scores Rating (bin)        Room Type  Zipcode  Beds  \\\n",
              "0     Apartment                         NaN  Entire home/apt  11249.0   1.0   \n",
              "1     Apartment                         NaN     Private room  11206.0   1.0   \n",
              "2     Apartment                         NaN     Private room  10032.0   1.0   \n",
              "3     Apartment                         NaN  Entire home/apt  10024.0   3.0   \n",
              "4     Apartment                        95.0     Private room  10036.0   3.0   \n",
              "\n",
              "   Number of Records  Number Of Reviews Price  Review Scores Rating  \n",
              "0                  1                  0   145                   NaN  \n",
              "1                  1                  1    37                   NaN  \n",
              "2                  1                  1    28                   NaN  \n",
              "3                  1                  0   199                   NaN  \n",
              "4                  1                 39   549                  96.0  "
            ],
            "text/html": [
              "\n",
              "  <div id=\"df-12d3e498-efa5-4250-8d64-886deeb08798\" class=\"colab-df-container\">\n",
              "    <div>\n",
              "<style scoped>\n",
              "    .dataframe tbody tr th:only-of-type {\n",
              "        vertical-align: middle;\n",
              "    }\n",
              "\n",
              "    .dataframe tbody tr th {\n",
              "        vertical-align: top;\n",
              "    }\n",
              "\n",
              "    .dataframe thead th {\n",
              "        text-align: right;\n",
              "    }\n",
              "</style>\n",
              "<table border=\"1\" class=\"dataframe\">\n",
              "  <thead>\n",
              "    <tr style=\"text-align: right;\">\n",
              "      <th></th>\n",
              "      <th>Host Id</th>\n",
              "      <th>Host Since</th>\n",
              "      <th>Name</th>\n",
              "      <th>Neighbourhood</th>\n",
              "      <th>Property Type</th>\n",
              "      <th>Review Scores Rating (bin)</th>\n",
              "      <th>Room Type</th>\n",
              "      <th>Zipcode</th>\n",
              "      <th>Beds</th>\n",
              "      <th>Number of Records</th>\n",
              "      <th>Number Of Reviews</th>\n",
              "      <th>Price</th>\n",
              "      <th>Review Scores Rating</th>\n",
              "    </tr>\n",
              "  </thead>\n",
              "  <tbody>\n",
              "    <tr>\n",
              "      <th>0</th>\n",
              "      <td>5162530</td>\n",
              "      <td>NaN</td>\n",
              "      <td>1 Bedroom in Prime Williamsburg</td>\n",
              "      <td>Brooklyn</td>\n",
              "      <td>Apartment</td>\n",
              "      <td>NaN</td>\n",
              "      <td>Entire home/apt</td>\n",
              "      <td>11249.0</td>\n",
              "      <td>1.0</td>\n",
              "      <td>1</td>\n",
              "      <td>0</td>\n",
              "      <td>145</td>\n",
              "      <td>NaN</td>\n",
              "    </tr>\n",
              "    <tr>\n",
              "      <th>1</th>\n",
              "      <td>33134899</td>\n",
              "      <td>NaN</td>\n",
              "      <td>Sunny, Private room in Bushwick</td>\n",
              "      <td>Brooklyn</td>\n",
              "      <td>Apartment</td>\n",
              "      <td>NaN</td>\n",
              "      <td>Private room</td>\n",
              "      <td>11206.0</td>\n",
              "      <td>1.0</td>\n",
              "      <td>1</td>\n",
              "      <td>1</td>\n",
              "      <td>37</td>\n",
              "      <td>NaN</td>\n",
              "    </tr>\n",
              "    <tr>\n",
              "      <th>2</th>\n",
              "      <td>39608626</td>\n",
              "      <td>NaN</td>\n",
              "      <td>Sunny Room in Harlem</td>\n",
              "      <td>Manhattan</td>\n",
              "      <td>Apartment</td>\n",
              "      <td>NaN</td>\n",
              "      <td>Private room</td>\n",
              "      <td>10032.0</td>\n",
              "      <td>1.0</td>\n",
              "      <td>1</td>\n",
              "      <td>1</td>\n",
              "      <td>28</td>\n",
              "      <td>NaN</td>\n",
              "    </tr>\n",
              "    <tr>\n",
              "      <th>3</th>\n",
              "      <td>500</td>\n",
              "      <td>6/26/2008</td>\n",
              "      <td>Gorgeous 1 BR with Private Balcony</td>\n",
              "      <td>Manhattan</td>\n",
              "      <td>Apartment</td>\n",
              "      <td>NaN</td>\n",
              "      <td>Entire home/apt</td>\n",
              "      <td>10024.0</td>\n",
              "      <td>3.0</td>\n",
              "      <td>1</td>\n",
              "      <td>0</td>\n",
              "      <td>199</td>\n",
              "      <td>NaN</td>\n",
              "    </tr>\n",
              "    <tr>\n",
              "      <th>4</th>\n",
              "      <td>500</td>\n",
              "      <td>6/26/2008</td>\n",
              "      <td>Trendy Times Square Loft</td>\n",
              "      <td>Manhattan</td>\n",
              "      <td>Apartment</td>\n",
              "      <td>95.0</td>\n",
              "      <td>Private room</td>\n",
              "      <td>10036.0</td>\n",
              "      <td>3.0</td>\n",
              "      <td>1</td>\n",
              "      <td>39</td>\n",
              "      <td>549</td>\n",
              "      <td>96.0</td>\n",
              "    </tr>\n",
              "  </tbody>\n",
              "</table>\n",
              "</div>\n",
              "    <div class=\"colab-df-buttons\">\n",
              "\n",
              "  <div class=\"colab-df-container\">\n",
              "    <button class=\"colab-df-convert\" onclick=\"convertToInteractive('df-12d3e498-efa5-4250-8d64-886deeb08798')\"\n",
              "            title=\"Convert this dataframe to an interactive table.\"\n",
              "            style=\"display:none;\">\n",
              "\n",
              "  <svg xmlns=\"http://www.w3.org/2000/svg\" height=\"24px\" viewBox=\"0 -960 960 960\">\n",
              "    <path d=\"M120-120v-720h720v720H120Zm60-500h600v-160H180v160Zm220 220h160v-160H400v160Zm0 220h160v-160H400v160ZM180-400h160v-160H180v160Zm440 0h160v-160H620v160ZM180-180h160v-160H180v160Zm440 0h160v-160H620v160Z\"/>\n",
              "  </svg>\n",
              "    </button>\n",
              "\n",
              "  <style>\n",
              "    .colab-df-container {\n",
              "      display:flex;\n",
              "      gap: 12px;\n",
              "    }\n",
              "\n",
              "    .colab-df-convert {\n",
              "      background-color: #E8F0FE;\n",
              "      border: none;\n",
              "      border-radius: 50%;\n",
              "      cursor: pointer;\n",
              "      display: none;\n",
              "      fill: #1967D2;\n",
              "      height: 32px;\n",
              "      padding: 0 0 0 0;\n",
              "      width: 32px;\n",
              "    }\n",
              "\n",
              "    .colab-df-convert:hover {\n",
              "      background-color: #E2EBFA;\n",
              "      box-shadow: 0px 1px 2px rgba(60, 64, 67, 0.3), 0px 1px 3px 1px rgba(60, 64, 67, 0.15);\n",
              "      fill: #174EA6;\n",
              "    }\n",
              "\n",
              "    .colab-df-buttons div {\n",
              "      margin-bottom: 4px;\n",
              "    }\n",
              "\n",
              "    [theme=dark] .colab-df-convert {\n",
              "      background-color: #3B4455;\n",
              "      fill: #D2E3FC;\n",
              "    }\n",
              "\n",
              "    [theme=dark] .colab-df-convert:hover {\n",
              "      background-color: #434B5C;\n",
              "      box-shadow: 0px 1px 3px 1px rgba(0, 0, 0, 0.15);\n",
              "      filter: drop-shadow(0px 1px 2px rgba(0, 0, 0, 0.3));\n",
              "      fill: #FFFFFF;\n",
              "    }\n",
              "  </style>\n",
              "\n",
              "    <script>\n",
              "      const buttonEl =\n",
              "        document.querySelector('#df-12d3e498-efa5-4250-8d64-886deeb08798 button.colab-df-convert');\n",
              "      buttonEl.style.display =\n",
              "        google.colab.kernel.accessAllowed ? 'block' : 'none';\n",
              "\n",
              "      async function convertToInteractive(key) {\n",
              "        const element = document.querySelector('#df-12d3e498-efa5-4250-8d64-886deeb08798');\n",
              "        const dataTable =\n",
              "          await google.colab.kernel.invokeFunction('convertToInteractive',\n",
              "                                                    [key], {});\n",
              "        if (!dataTable) return;\n",
              "\n",
              "        const docLinkHtml = 'Like what you see? Visit the ' +\n",
              "          '<a target=\"_blank\" href=https://colab.research.google.com/notebooks/data_table.ipynb>data table notebook</a>'\n",
              "          + ' to learn more about interactive tables.';\n",
              "        element.innerHTML = '';\n",
              "        dataTable['output_type'] = 'display_data';\n",
              "        await google.colab.output.renderOutput(dataTable, element);\n",
              "        const docLink = document.createElement('div');\n",
              "        docLink.innerHTML = docLinkHtml;\n",
              "        element.appendChild(docLink);\n",
              "      }\n",
              "    </script>\n",
              "  </div>\n",
              "\n",
              "\n",
              "<div id=\"df-2511bba9-f61b-4204-a706-98e5f71a8f69\">\n",
              "  <button class=\"colab-df-quickchart\" onclick=\"quickchart('df-2511bba9-f61b-4204-a706-98e5f71a8f69')\"\n",
              "            title=\"Suggest charts\"\n",
              "            style=\"display:none;\">\n",
              "\n",
              "<svg xmlns=\"http://www.w3.org/2000/svg\" height=\"24px\"viewBox=\"0 0 24 24\"\n",
              "     width=\"24px\">\n",
              "    <g>\n",
              "        <path d=\"M19 3H5c-1.1 0-2 .9-2 2v14c0 1.1.9 2 2 2h14c1.1 0 2-.9 2-2V5c0-1.1-.9-2-2-2zM9 17H7v-7h2v7zm4 0h-2V7h2v10zm4 0h-2v-4h2v4z\"/>\n",
              "    </g>\n",
              "</svg>\n",
              "  </button>\n",
              "\n",
              "<style>\n",
              "  .colab-df-quickchart {\n",
              "      --bg-color: #E8F0FE;\n",
              "      --fill-color: #1967D2;\n",
              "      --hover-bg-color: #E2EBFA;\n",
              "      --hover-fill-color: #174EA6;\n",
              "      --disabled-fill-color: #AAA;\n",
              "      --disabled-bg-color: #DDD;\n",
              "  }\n",
              "\n",
              "  [theme=dark] .colab-df-quickchart {\n",
              "      --bg-color: #3B4455;\n",
              "      --fill-color: #D2E3FC;\n",
              "      --hover-bg-color: #434B5C;\n",
              "      --hover-fill-color: #FFFFFF;\n",
              "      --disabled-bg-color: #3B4455;\n",
              "      --disabled-fill-color: #666;\n",
              "  }\n",
              "\n",
              "  .colab-df-quickchart {\n",
              "    background-color: var(--bg-color);\n",
              "    border: none;\n",
              "    border-radius: 50%;\n",
              "    cursor: pointer;\n",
              "    display: none;\n",
              "    fill: var(--fill-color);\n",
              "    height: 32px;\n",
              "    padding: 0;\n",
              "    width: 32px;\n",
              "  }\n",
              "\n",
              "  .colab-df-quickchart:hover {\n",
              "    background-color: var(--hover-bg-color);\n",
              "    box-shadow: 0 1px 2px rgba(60, 64, 67, 0.3), 0 1px 3px 1px rgba(60, 64, 67, 0.15);\n",
              "    fill: var(--button-hover-fill-color);\n",
              "  }\n",
              "\n",
              "  .colab-df-quickchart-complete:disabled,\n",
              "  .colab-df-quickchart-complete:disabled:hover {\n",
              "    background-color: var(--disabled-bg-color);\n",
              "    fill: var(--disabled-fill-color);\n",
              "    box-shadow: none;\n",
              "  }\n",
              "\n",
              "  .colab-df-spinner {\n",
              "    border: 2px solid var(--fill-color);\n",
              "    border-color: transparent;\n",
              "    border-bottom-color: var(--fill-color);\n",
              "    animation:\n",
              "      spin 1s steps(1) infinite;\n",
              "  }\n",
              "\n",
              "  @keyframes spin {\n",
              "    0% {\n",
              "      border-color: transparent;\n",
              "      border-bottom-color: var(--fill-color);\n",
              "      border-left-color: var(--fill-color);\n",
              "    }\n",
              "    20% {\n",
              "      border-color: transparent;\n",
              "      border-left-color: var(--fill-color);\n",
              "      border-top-color: var(--fill-color);\n",
              "    }\n",
              "    30% {\n",
              "      border-color: transparent;\n",
              "      border-left-color: var(--fill-color);\n",
              "      border-top-color: var(--fill-color);\n",
              "      border-right-color: var(--fill-color);\n",
              "    }\n",
              "    40% {\n",
              "      border-color: transparent;\n",
              "      border-right-color: var(--fill-color);\n",
              "      border-top-color: var(--fill-color);\n",
              "    }\n",
              "    60% {\n",
              "      border-color: transparent;\n",
              "      border-right-color: var(--fill-color);\n",
              "    }\n",
              "    80% {\n",
              "      border-color: transparent;\n",
              "      border-right-color: var(--fill-color);\n",
              "      border-bottom-color: var(--fill-color);\n",
              "    }\n",
              "    90% {\n",
              "      border-color: transparent;\n",
              "      border-bottom-color: var(--fill-color);\n",
              "    }\n",
              "  }\n",
              "</style>\n",
              "\n",
              "  <script>\n",
              "    async function quickchart(key) {\n",
              "      const quickchartButtonEl =\n",
              "        document.querySelector('#' + key + ' button');\n",
              "      quickchartButtonEl.disabled = true;  // To prevent multiple clicks.\n",
              "      quickchartButtonEl.classList.add('colab-df-spinner');\n",
              "      try {\n",
              "        const charts = await google.colab.kernel.invokeFunction(\n",
              "            'suggestCharts', [key], {});\n",
              "      } catch (error) {\n",
              "        console.error('Error during call to suggestCharts:', error);\n",
              "      }\n",
              "      quickchartButtonEl.classList.remove('colab-df-spinner');\n",
              "      quickchartButtonEl.classList.add('colab-df-quickchart-complete');\n",
              "    }\n",
              "    (() => {\n",
              "      let quickchartButtonEl =\n",
              "        document.querySelector('#df-2511bba9-f61b-4204-a706-98e5f71a8f69 button');\n",
              "      quickchartButtonEl.style.display =\n",
              "        google.colab.kernel.accessAllowed ? 'block' : 'none';\n",
              "    })();\n",
              "  </script>\n",
              "</div>\n",
              "\n",
              "    </div>\n",
              "  </div>\n"
            ],
            "application/vnd.google.colaboratory.intrinsic+json": {
              "type": "dataframe",
              "variable_name": "df",
              "summary": "{\n  \"name\": \"df\",\n  \"rows\": 30478,\n  \"fields\": [\n    {\n      \"column\": \"Host Id\",\n      \"properties\": {\n        \"dtype\": \"number\",\n        \"std\": 11902702,\n        \"min\": 500,\n        \"max\": 43033067,\n        \"num_unique_values\": 24421,\n        \"samples\": [\n          24093114,\n          16925490,\n          2886652\n        ],\n        \"semantic_type\": \"\",\n        \"description\": \"\"\n      }\n    },\n    {\n      \"column\": \"Host Since\",\n      \"properties\": {\n        \"dtype\": \"date\",\n        \"min\": \"2008-06-26 00:00:00\",\n        \"max\": \"2015-08-31 00:00:00\",\n        \"num_unique_values\": 2240,\n        \"samples\": [\n          \"5/20/2010\",\n          \"7/2/2009\",\n          \"4/18/2015\"\n        ],\n        \"semantic_type\": \"\",\n        \"description\": \"\"\n      }\n    },\n    {\n      \"column\": \"Name\",\n      \"properties\": {\n        \"dtype\": \"string\",\n        \"num_unique_values\": 29413,\n        \"samples\": [\n          \"Explore the beauty of Brooklyn\",\n          \"Sunny Room in Williamsburg Loft\",\n          \"cozy one bedroom in lower east side\"\n        ],\n        \"semantic_type\": \"\",\n        \"description\": \"\"\n      }\n    },\n    {\n      \"column\": \"Neighbourhood \",\n      \"properties\": {\n        \"dtype\": \"category\",\n        \"num_unique_values\": 5,\n        \"samples\": [\n          \"Manhattan\",\n          \"Staten Island\",\n          \"Queens\"\n        ],\n        \"semantic_type\": \"\",\n        \"description\": \"\"\n      }\n    },\n    {\n      \"column\": \"Property Type\",\n      \"properties\": {\n        \"dtype\": \"category\",\n        \"num_unique_values\": 19,\n        \"samples\": [\n          \"Apartment\",\n          \"Condominium\",\n          \"Bungalow\"\n        ],\n        \"semantic_type\": \"\",\n        \"description\": \"\"\n      }\n    },\n    {\n      \"column\": \"Review Scores Rating (bin)\",\n      \"properties\": {\n        \"dtype\": \"number\",\n        \"std\": 9.05951861814779,\n        \"min\": 20.0,\n        \"max\": 100.0,\n        \"num_unique_values\": 15,\n        \"samples\": [\n          40.0,\n          20.0,\n          95.0\n        ],\n        \"semantic_type\": \"\",\n        \"description\": \"\"\n      }\n    },\n    {\n      \"column\": \"Room Type\",\n      \"properties\": {\n        \"dtype\": \"category\",\n        \"num_unique_values\": 3,\n        \"samples\": [\n          \"Entire home/apt\",\n          \"Private room\",\n          \"Shared room\"\n        ],\n        \"semantic_type\": \"\",\n        \"description\": \"\"\n      }\n    },\n    {\n      \"column\": \"Zipcode\",\n      \"properties\": {\n        \"dtype\": \"number\",\n        \"std\": 921.2993969568683,\n        \"min\": 1003.0,\n        \"max\": 99135.0,\n        \"num_unique_values\": 188,\n        \"samples\": [\n          11414.0,\n          11239.0,\n          11365.0\n        ],\n        \"semantic_type\": \"\",\n        \"description\": \"\"\n      }\n    },\n    {\n      \"column\": \"Beds\",\n      \"properties\": {\n        \"dtype\": \"number\",\n        \"std\": 1.0153587174802678,\n        \"min\": 0.0,\n        \"max\": 16.0,\n        \"num_unique_values\": 14,\n        \"samples\": [\n          12.0,\n          16.0,\n          1.0\n        ],\n        \"semantic_type\": \"\",\n        \"description\": \"\"\n      }\n    },\n    {\n      \"column\": \"Number of Records\",\n      \"properties\": {\n        \"dtype\": \"number\",\n        \"std\": 0,\n        \"min\": 1,\n        \"max\": 1,\n        \"num_unique_values\": 1,\n        \"samples\": [\n          1\n        ],\n        \"semantic_type\": \"\",\n        \"description\": \"\"\n      }\n    },\n    {\n      \"column\": \"Number Of Reviews\",\n      \"properties\": {\n        \"dtype\": \"number\",\n        \"std\": 21,\n        \"min\": 0,\n        \"max\": 257,\n        \"num_unique_values\": 205,\n        \"samples\": [\n          171\n        ],\n        \"semantic_type\": \"\",\n        \"description\": \"\"\n      }\n    },\n    {\n      \"column\": \"Price\",\n      \"properties\": {\n        \"dtype\": \"category\",\n        \"num_unique_values\": 511,\n        \"samples\": [\n          \"299\"\n        ],\n        \"semantic_type\": \"\",\n        \"description\": \"\"\n      }\n    },\n    {\n      \"column\": \"Review Scores Rating\",\n      \"properties\": {\n        \"dtype\": \"number\",\n        \"std\": 8.850373136231884,\n        \"min\": 20.0,\n        \"max\": 100.0,\n        \"num_unique_values\": 51,\n        \"samples\": [\n          58.0\n        ],\n        \"semantic_type\": \"\",\n        \"description\": \"\"\n      }\n    }\n  ]\n}"
            }
          },
          "metadata": {},
          "execution_count": 20
        }
      ]
    },
    {
      "cell_type": "markdown",
      "source": [
        "####Problem 3.3: Cross tabulate Room Type and Property Type. What patterns do you see in what kinds of rentals are available? For which kinds of properties are private rooms more common than renting the entire property?"
      ],
      "metadata": {
        "id": "nfpQwXCGWU2l"
      }
    },
    {
      "cell_type": "code",
      "source": [
        "pd.crosstab(df['Room Type'], df['Property Type'])"
      ],
      "metadata": {
        "colab": {
          "base_uri": "https://localhost:8080/",
          "height": 282
        },
        "id": "k9C1g-PFWZGm",
        "outputId": "a683757b-1579-4170-dca8-9f9391358f48"
      },
      "execution_count": 21,
      "outputs": [
        {
          "output_type": "execute_result",
          "data": {
            "text/plain": [
              "Property Type    Apartment  Bed & Breakfast  Boat  Bungalow  Cabin  Camper/RV  \\\n",
              "Room Type                                                                       \n",
              "Entire home/apt      15669               13     7         4      1          6   \n",
              "Private room         10748              155     1         0      1          1   \n",
              "Shared room            685               12     0         0      0          0   \n",
              "\n",
              "Property Type    Castle  Chalet  Condominium  Dorm  House  Hut  Lighthouse  \\\n",
              "Room Type                                                                    \n",
              "Entire home/apt       0       0           72     4    752    0           1   \n",
              "Private room          1       1           22    16   1258    2           0   \n",
              "Shared room           0       0            0    11     80    0           0   \n",
              "\n",
              "Property Type    Loft  Other  Tent  Townhouse  Treehouse  Villa  \n",
              "Room Type                                                        \n",
              "Entire home/apt   392     14     0         83          0      4  \n",
              "Private room      312     29     4         52          1      4  \n",
              "Shared room        49      4     0          1          3      0  "
            ],
            "text/html": [
              "\n",
              "  <div id=\"df-b72ce53e-c971-45ef-85ee-b2bf5750268a\" class=\"colab-df-container\">\n",
              "    <div>\n",
              "<style scoped>\n",
              "    .dataframe tbody tr th:only-of-type {\n",
              "        vertical-align: middle;\n",
              "    }\n",
              "\n",
              "    .dataframe tbody tr th {\n",
              "        vertical-align: top;\n",
              "    }\n",
              "\n",
              "    .dataframe thead th {\n",
              "        text-align: right;\n",
              "    }\n",
              "</style>\n",
              "<table border=\"1\" class=\"dataframe\">\n",
              "  <thead>\n",
              "    <tr style=\"text-align: right;\">\n",
              "      <th>Property Type</th>\n",
              "      <th>Apartment</th>\n",
              "      <th>Bed &amp; Breakfast</th>\n",
              "      <th>Boat</th>\n",
              "      <th>Bungalow</th>\n",
              "      <th>Cabin</th>\n",
              "      <th>Camper/RV</th>\n",
              "      <th>Castle</th>\n",
              "      <th>Chalet</th>\n",
              "      <th>Condominium</th>\n",
              "      <th>Dorm</th>\n",
              "      <th>House</th>\n",
              "      <th>Hut</th>\n",
              "      <th>Lighthouse</th>\n",
              "      <th>Loft</th>\n",
              "      <th>Other</th>\n",
              "      <th>Tent</th>\n",
              "      <th>Townhouse</th>\n",
              "      <th>Treehouse</th>\n",
              "      <th>Villa</th>\n",
              "    </tr>\n",
              "    <tr>\n",
              "      <th>Room Type</th>\n",
              "      <th></th>\n",
              "      <th></th>\n",
              "      <th></th>\n",
              "      <th></th>\n",
              "      <th></th>\n",
              "      <th></th>\n",
              "      <th></th>\n",
              "      <th></th>\n",
              "      <th></th>\n",
              "      <th></th>\n",
              "      <th></th>\n",
              "      <th></th>\n",
              "      <th></th>\n",
              "      <th></th>\n",
              "      <th></th>\n",
              "      <th></th>\n",
              "      <th></th>\n",
              "      <th></th>\n",
              "      <th></th>\n",
              "    </tr>\n",
              "  </thead>\n",
              "  <tbody>\n",
              "    <tr>\n",
              "      <th>Entire home/apt</th>\n",
              "      <td>15669</td>\n",
              "      <td>13</td>\n",
              "      <td>7</td>\n",
              "      <td>4</td>\n",
              "      <td>1</td>\n",
              "      <td>6</td>\n",
              "      <td>0</td>\n",
              "      <td>0</td>\n",
              "      <td>72</td>\n",
              "      <td>4</td>\n",
              "      <td>752</td>\n",
              "      <td>0</td>\n",
              "      <td>1</td>\n",
              "      <td>392</td>\n",
              "      <td>14</td>\n",
              "      <td>0</td>\n",
              "      <td>83</td>\n",
              "      <td>0</td>\n",
              "      <td>4</td>\n",
              "    </tr>\n",
              "    <tr>\n",
              "      <th>Private room</th>\n",
              "      <td>10748</td>\n",
              "      <td>155</td>\n",
              "      <td>1</td>\n",
              "      <td>0</td>\n",
              "      <td>1</td>\n",
              "      <td>1</td>\n",
              "      <td>1</td>\n",
              "      <td>1</td>\n",
              "      <td>22</td>\n",
              "      <td>16</td>\n",
              "      <td>1258</td>\n",
              "      <td>2</td>\n",
              "      <td>0</td>\n",
              "      <td>312</td>\n",
              "      <td>29</td>\n",
              "      <td>4</td>\n",
              "      <td>52</td>\n",
              "      <td>1</td>\n",
              "      <td>4</td>\n",
              "    </tr>\n",
              "    <tr>\n",
              "      <th>Shared room</th>\n",
              "      <td>685</td>\n",
              "      <td>12</td>\n",
              "      <td>0</td>\n",
              "      <td>0</td>\n",
              "      <td>0</td>\n",
              "      <td>0</td>\n",
              "      <td>0</td>\n",
              "      <td>0</td>\n",
              "      <td>0</td>\n",
              "      <td>11</td>\n",
              "      <td>80</td>\n",
              "      <td>0</td>\n",
              "      <td>0</td>\n",
              "      <td>49</td>\n",
              "      <td>4</td>\n",
              "      <td>0</td>\n",
              "      <td>1</td>\n",
              "      <td>3</td>\n",
              "      <td>0</td>\n",
              "    </tr>\n",
              "  </tbody>\n",
              "</table>\n",
              "</div>\n",
              "    <div class=\"colab-df-buttons\">\n",
              "\n",
              "  <div class=\"colab-df-container\">\n",
              "    <button class=\"colab-df-convert\" onclick=\"convertToInteractive('df-b72ce53e-c971-45ef-85ee-b2bf5750268a')\"\n",
              "            title=\"Convert this dataframe to an interactive table.\"\n",
              "            style=\"display:none;\">\n",
              "\n",
              "  <svg xmlns=\"http://www.w3.org/2000/svg\" height=\"24px\" viewBox=\"0 -960 960 960\">\n",
              "    <path d=\"M120-120v-720h720v720H120Zm60-500h600v-160H180v160Zm220 220h160v-160H400v160Zm0 220h160v-160H400v160ZM180-400h160v-160H180v160Zm440 0h160v-160H620v160ZM180-180h160v-160H180v160Zm440 0h160v-160H620v160Z\"/>\n",
              "  </svg>\n",
              "    </button>\n",
              "\n",
              "  <style>\n",
              "    .colab-df-container {\n",
              "      display:flex;\n",
              "      gap: 12px;\n",
              "    }\n",
              "\n",
              "    .colab-df-convert {\n",
              "      background-color: #E8F0FE;\n",
              "      border: none;\n",
              "      border-radius: 50%;\n",
              "      cursor: pointer;\n",
              "      display: none;\n",
              "      fill: #1967D2;\n",
              "      height: 32px;\n",
              "      padding: 0 0 0 0;\n",
              "      width: 32px;\n",
              "    }\n",
              "\n",
              "    .colab-df-convert:hover {\n",
              "      background-color: #E2EBFA;\n",
              "      box-shadow: 0px 1px 2px rgba(60, 64, 67, 0.3), 0px 1px 3px 1px rgba(60, 64, 67, 0.15);\n",
              "      fill: #174EA6;\n",
              "    }\n",
              "\n",
              "    .colab-df-buttons div {\n",
              "      margin-bottom: 4px;\n",
              "    }\n",
              "\n",
              "    [theme=dark] .colab-df-convert {\n",
              "      background-color: #3B4455;\n",
              "      fill: #D2E3FC;\n",
              "    }\n",
              "\n",
              "    [theme=dark] .colab-df-convert:hover {\n",
              "      background-color: #434B5C;\n",
              "      box-shadow: 0px 1px 3px 1px rgba(0, 0, 0, 0.15);\n",
              "      filter: drop-shadow(0px 1px 2px rgba(0, 0, 0, 0.3));\n",
              "      fill: #FFFFFF;\n",
              "    }\n",
              "  </style>\n",
              "\n",
              "    <script>\n",
              "      const buttonEl =\n",
              "        document.querySelector('#df-b72ce53e-c971-45ef-85ee-b2bf5750268a button.colab-df-convert');\n",
              "      buttonEl.style.display =\n",
              "        google.colab.kernel.accessAllowed ? 'block' : 'none';\n",
              "\n",
              "      async function convertToInteractive(key) {\n",
              "        const element = document.querySelector('#df-b72ce53e-c971-45ef-85ee-b2bf5750268a');\n",
              "        const dataTable =\n",
              "          await google.colab.kernel.invokeFunction('convertToInteractive',\n",
              "                                                    [key], {});\n",
              "        if (!dataTable) return;\n",
              "\n",
              "        const docLinkHtml = 'Like what you see? Visit the ' +\n",
              "          '<a target=\"_blank\" href=https://colab.research.google.com/notebooks/data_table.ipynb>data table notebook</a>'\n",
              "          + ' to learn more about interactive tables.';\n",
              "        element.innerHTML = '';\n",
              "        dataTable['output_type'] = 'display_data';\n",
              "        await google.colab.output.renderOutput(dataTable, element);\n",
              "        const docLink = document.createElement('div');\n",
              "        docLink.innerHTML = docLinkHtml;\n",
              "        element.appendChild(docLink);\n",
              "      }\n",
              "    </script>\n",
              "  </div>\n",
              "\n",
              "\n",
              "<div id=\"df-c6559168-beaf-46a7-9c51-731e65f128f3\">\n",
              "  <button class=\"colab-df-quickchart\" onclick=\"quickchart('df-c6559168-beaf-46a7-9c51-731e65f128f3')\"\n",
              "            title=\"Suggest charts\"\n",
              "            style=\"display:none;\">\n",
              "\n",
              "<svg xmlns=\"http://www.w3.org/2000/svg\" height=\"24px\"viewBox=\"0 0 24 24\"\n",
              "     width=\"24px\">\n",
              "    <g>\n",
              "        <path d=\"M19 3H5c-1.1 0-2 .9-2 2v14c0 1.1.9 2 2 2h14c1.1 0 2-.9 2-2V5c0-1.1-.9-2-2-2zM9 17H7v-7h2v7zm4 0h-2V7h2v10zm4 0h-2v-4h2v4z\"/>\n",
              "    </g>\n",
              "</svg>\n",
              "  </button>\n",
              "\n",
              "<style>\n",
              "  .colab-df-quickchart {\n",
              "      --bg-color: #E8F0FE;\n",
              "      --fill-color: #1967D2;\n",
              "      --hover-bg-color: #E2EBFA;\n",
              "      --hover-fill-color: #174EA6;\n",
              "      --disabled-fill-color: #AAA;\n",
              "      --disabled-bg-color: #DDD;\n",
              "  }\n",
              "\n",
              "  [theme=dark] .colab-df-quickchart {\n",
              "      --bg-color: #3B4455;\n",
              "      --fill-color: #D2E3FC;\n",
              "      --hover-bg-color: #434B5C;\n",
              "      --hover-fill-color: #FFFFFF;\n",
              "      --disabled-bg-color: #3B4455;\n",
              "      --disabled-fill-color: #666;\n",
              "  }\n",
              "\n",
              "  .colab-df-quickchart {\n",
              "    background-color: var(--bg-color);\n",
              "    border: none;\n",
              "    border-radius: 50%;\n",
              "    cursor: pointer;\n",
              "    display: none;\n",
              "    fill: var(--fill-color);\n",
              "    height: 32px;\n",
              "    padding: 0;\n",
              "    width: 32px;\n",
              "  }\n",
              "\n",
              "  .colab-df-quickchart:hover {\n",
              "    background-color: var(--hover-bg-color);\n",
              "    box-shadow: 0 1px 2px rgba(60, 64, 67, 0.3), 0 1px 3px 1px rgba(60, 64, 67, 0.15);\n",
              "    fill: var(--button-hover-fill-color);\n",
              "  }\n",
              "\n",
              "  .colab-df-quickchart-complete:disabled,\n",
              "  .colab-df-quickchart-complete:disabled:hover {\n",
              "    background-color: var(--disabled-bg-color);\n",
              "    fill: var(--disabled-fill-color);\n",
              "    box-shadow: none;\n",
              "  }\n",
              "\n",
              "  .colab-df-spinner {\n",
              "    border: 2px solid var(--fill-color);\n",
              "    border-color: transparent;\n",
              "    border-bottom-color: var(--fill-color);\n",
              "    animation:\n",
              "      spin 1s steps(1) infinite;\n",
              "  }\n",
              "\n",
              "  @keyframes spin {\n",
              "    0% {\n",
              "      border-color: transparent;\n",
              "      border-bottom-color: var(--fill-color);\n",
              "      border-left-color: var(--fill-color);\n",
              "    }\n",
              "    20% {\n",
              "      border-color: transparent;\n",
              "      border-left-color: var(--fill-color);\n",
              "      border-top-color: var(--fill-color);\n",
              "    }\n",
              "    30% {\n",
              "      border-color: transparent;\n",
              "      border-left-color: var(--fill-color);\n",
              "      border-top-color: var(--fill-color);\n",
              "      border-right-color: var(--fill-color);\n",
              "    }\n",
              "    40% {\n",
              "      border-color: transparent;\n",
              "      border-right-color: var(--fill-color);\n",
              "      border-top-color: var(--fill-color);\n",
              "    }\n",
              "    60% {\n",
              "      border-color: transparent;\n",
              "      border-right-color: var(--fill-color);\n",
              "    }\n",
              "    80% {\n",
              "      border-color: transparent;\n",
              "      border-right-color: var(--fill-color);\n",
              "      border-bottom-color: var(--fill-color);\n",
              "    }\n",
              "    90% {\n",
              "      border-color: transparent;\n",
              "      border-bottom-color: var(--fill-color);\n",
              "    }\n",
              "  }\n",
              "</style>\n",
              "\n",
              "  <script>\n",
              "    async function quickchart(key) {\n",
              "      const quickchartButtonEl =\n",
              "        document.querySelector('#' + key + ' button');\n",
              "      quickchartButtonEl.disabled = true;  // To prevent multiple clicks.\n",
              "      quickchartButtonEl.classList.add('colab-df-spinner');\n",
              "      try {\n",
              "        const charts = await google.colab.kernel.invokeFunction(\n",
              "            'suggestCharts', [key], {});\n",
              "      } catch (error) {\n",
              "        console.error('Error during call to suggestCharts:', error);\n",
              "      }\n",
              "      quickchartButtonEl.classList.remove('colab-df-spinner');\n",
              "      quickchartButtonEl.classList.add('colab-df-quickchart-complete');\n",
              "    }\n",
              "    (() => {\n",
              "      let quickchartButtonEl =\n",
              "        document.querySelector('#df-c6559168-beaf-46a7-9c51-731e65f128f3 button');\n",
              "      quickchartButtonEl.style.display =\n",
              "        google.colab.kernel.accessAllowed ? 'block' : 'none';\n",
              "    })();\n",
              "  </script>\n",
              "</div>\n",
              "\n",
              "    </div>\n",
              "  </div>\n"
            ],
            "application/vnd.google.colaboratory.intrinsic+json": {
              "type": "dataframe",
              "summary": "{\n  \"name\": \"pd\",\n  \"rows\": 3,\n  \"fields\": [\n    {\n      \"column\": \"Room Type\",\n      \"properties\": {\n        \"dtype\": \"string\",\n        \"num_unique_values\": 3,\n        \"samples\": [\n          \"Entire home/apt\",\n          \"Private room\",\n          \"Shared room\"\n        ],\n        \"semantic_type\": \"\",\n        \"description\": \"\"\n      }\n    },\n    {\n      \"column\": \"Apartment\",\n      \"properties\": {\n        \"dtype\": \"number\",\n        \"std\": 7637,\n        \"min\": 685,\n        \"max\": 15669,\n        \"num_unique_values\": 3,\n        \"samples\": [\n          15669,\n          10748,\n          685\n        ],\n        \"semantic_type\": \"\",\n        \"description\": \"\"\n      }\n    },\n    {\n      \"column\": \"Bed & Breakfast\",\n      \"properties\": {\n        \"dtype\": \"number\",\n        \"std\": 82,\n        \"min\": 12,\n        \"max\": 155,\n        \"num_unique_values\": 3,\n        \"samples\": [\n          13,\n          155,\n          12\n        ],\n        \"semantic_type\": \"\",\n        \"description\": \"\"\n      }\n    },\n    {\n      \"column\": \"Boat\",\n      \"properties\": {\n        \"dtype\": \"number\",\n        \"std\": 3,\n        \"min\": 0,\n        \"max\": 7,\n        \"num_unique_values\": 3,\n        \"samples\": [\n          7,\n          1,\n          0\n        ],\n        \"semantic_type\": \"\",\n        \"description\": \"\"\n      }\n    },\n    {\n      \"column\": \"Bungalow\",\n      \"properties\": {\n        \"dtype\": \"number\",\n        \"std\": 2,\n        \"min\": 0,\n        \"max\": 4,\n        \"num_unique_values\": 2,\n        \"samples\": [\n          0,\n          4\n        ],\n        \"semantic_type\": \"\",\n        \"description\": \"\"\n      }\n    },\n    {\n      \"column\": \"Cabin\",\n      \"properties\": {\n        \"dtype\": \"number\",\n        \"std\": 0,\n        \"min\": 0,\n        \"max\": 1,\n        \"num_unique_values\": 2,\n        \"samples\": [\n          0,\n          1\n        ],\n        \"semantic_type\": \"\",\n        \"description\": \"\"\n      }\n    },\n    {\n      \"column\": \"Camper/RV\",\n      \"properties\": {\n        \"dtype\": \"number\",\n        \"std\": 3,\n        \"min\": 0,\n        \"max\": 6,\n        \"num_unique_values\": 3,\n        \"samples\": [\n          6,\n          1\n        ],\n        \"semantic_type\": \"\",\n        \"description\": \"\"\n      }\n    },\n    {\n      \"column\": \"Castle\",\n      \"properties\": {\n        \"dtype\": \"number\",\n        \"std\": 0,\n        \"min\": 0,\n        \"max\": 1,\n        \"num_unique_values\": 2,\n        \"samples\": [\n          1,\n          0\n        ],\n        \"semantic_type\": \"\",\n        \"description\": \"\"\n      }\n    },\n    {\n      \"column\": \"Chalet\",\n      \"properties\": {\n        \"dtype\": \"number\",\n        \"std\": 0,\n        \"min\": 0,\n        \"max\": 1,\n        \"num_unique_values\": 2,\n        \"samples\": [\n          1,\n          0\n        ],\n        \"semantic_type\": \"\",\n        \"description\": \"\"\n      }\n    },\n    {\n      \"column\": \"Condominium\",\n      \"properties\": {\n        \"dtype\": \"number\",\n        \"std\": 36,\n        \"min\": 0,\n        \"max\": 72,\n        \"num_unique_values\": 3,\n        \"samples\": [\n          72,\n          22\n        ],\n        \"semantic_type\": \"\",\n        \"description\": \"\"\n      }\n    },\n    {\n      \"column\": \"Dorm\",\n      \"properties\": {\n        \"dtype\": \"number\",\n        \"std\": 6,\n        \"min\": 4,\n        \"max\": 16,\n        \"num_unique_values\": 3,\n        \"samples\": [\n          4,\n          16\n        ],\n        \"semantic_type\": \"\",\n        \"description\": \"\"\n      }\n    },\n    {\n      \"column\": \"House\",\n      \"properties\": {\n        \"dtype\": \"number\",\n        \"std\": 590,\n        \"min\": 80,\n        \"max\": 1258,\n        \"num_unique_values\": 3,\n        \"samples\": [\n          752,\n          1258\n        ],\n        \"semantic_type\": \"\",\n        \"description\": \"\"\n      }\n    },\n    {\n      \"column\": \"Hut\",\n      \"properties\": {\n        \"dtype\": \"number\",\n        \"std\": 1,\n        \"min\": 0,\n        \"max\": 2,\n        \"num_unique_values\": 2,\n        \"samples\": [\n          2,\n          0\n        ],\n        \"semantic_type\": \"\",\n        \"description\": \"\"\n      }\n    },\n    {\n      \"column\": \"Lighthouse\",\n      \"properties\": {\n        \"dtype\": \"number\",\n        \"std\": 0,\n        \"min\": 0,\n        \"max\": 1,\n        \"num_unique_values\": 2,\n        \"samples\": [\n          0,\n          1\n        ],\n        \"semantic_type\": \"\",\n        \"description\": \"\"\n      }\n    },\n    {\n      \"column\": \"Loft\",\n      \"properties\": {\n        \"dtype\": \"number\",\n        \"std\": 179,\n        \"min\": 49,\n        \"max\": 392,\n        \"num_unique_values\": 3,\n        \"samples\": [\n          392,\n          312\n        ],\n        \"semantic_type\": \"\",\n        \"description\": \"\"\n      }\n    },\n    {\n      \"column\": \"Other\",\n      \"properties\": {\n        \"dtype\": \"number\",\n        \"std\": 12,\n        \"min\": 4,\n        \"max\": 29,\n        \"num_unique_values\": 3,\n        \"samples\": [\n          14,\n          29\n        ],\n        \"semantic_type\": \"\",\n        \"description\": \"\"\n      }\n    },\n    {\n      \"column\": \"Tent\",\n      \"properties\": {\n        \"dtype\": \"number\",\n        \"std\": 2,\n        \"min\": 0,\n        \"max\": 4,\n        \"num_unique_values\": 2,\n        \"samples\": [\n          4,\n          0\n        ],\n        \"semantic_type\": \"\",\n        \"description\": \"\"\n      }\n    },\n    {\n      \"column\": \"Townhouse\",\n      \"properties\": {\n        \"dtype\": \"number\",\n        \"std\": 41,\n        \"min\": 1,\n        \"max\": 83,\n        \"num_unique_values\": 3,\n        \"samples\": [\n          83,\n          52\n        ],\n        \"semantic_type\": \"\",\n        \"description\": \"\"\n      }\n    },\n    {\n      \"column\": \"Treehouse\",\n      \"properties\": {\n        \"dtype\": \"number\",\n        \"std\": 1,\n        \"min\": 0,\n        \"max\": 3,\n        \"num_unique_values\": 3,\n        \"samples\": [\n          0,\n          1\n        ],\n        \"semantic_type\": \"\",\n        \"description\": \"\"\n      }\n    },\n    {\n      \"column\": \"Villa\",\n      \"properties\": {\n        \"dtype\": \"number\",\n        \"std\": 2,\n        \"min\": 0,\n        \"max\": 4,\n        \"num_unique_values\": 2,\n        \"samples\": [\n          0,\n          4\n        ],\n        \"semantic_type\": \"\",\n        \"description\": \"\"\n      }\n    }\n  ]\n}"
            }
          },
          "metadata": {},
          "execution_count": 21
        }
      ]
    },
    {
      "cell_type": "markdown",
      "source": [
        "####Problem 3.4: For Price, make a histogram, kernel density, box plot, and a statistical description of the variable. Are the data badly scaled? Are there many outliers? Use log to transform price into a new variable, price_log, and take these steps again."
      ],
      "metadata": {
        "id": "Eso69e2ydV1P"
      }
    },
    {
      "cell_type": "code",
      "source": [
        "df['Price'] = pd.to_numeric(df['Price'], errors='coerce')\n",
        "df = df.dropna(subset=['Price'])\n",
        "sns.kdeplot(data=df, x='Price')"
      ],
      "metadata": {
        "colab": {
          "base_uri": "https://localhost:8080/",
          "height": 467
        },
        "id": "y12AMlDXdcJA",
        "outputId": "004589da-0291-4a44-c95e-5546633a21b7"
      },
      "execution_count": 22,
      "outputs": [
        {
          "output_type": "execute_result",
          "data": {
            "text/plain": [
              "<Axes: xlabel='Price', ylabel='Density'>"
            ]
          },
          "metadata": {},
          "execution_count": 22
        },
        {
          "output_type": "display_data",
          "data": {
            "text/plain": [
              "<Figure size 640x480 with 1 Axes>"
            ],
            "image/png": "[encoded data removed]"
          },
          "metadata": {}
        }
      ]
    },
    {
      "cell_type": "code",
      "source": [
        "df['Price'].describe()"
      ],
      "metadata": {
        "colab": {
          "base_uri": "https://localhost:8080/",
          "height": 335
        },
        "id": "CvofCD4Md5Cg",
        "outputId": "1283fead-a410-49f9-c2b9-707397473e01"
      },
      "execution_count": 23,
      "outputs": [
        {
          "output_type": "execute_result",
          "data": {
            "text/plain": [
              "count    30297.000000\n",
              "mean       153.357032\n",
              "std        108.895698\n",
              "min         10.000000\n",
              "25%         80.000000\n",
              "50%        125.000000\n",
              "75%        192.000000\n",
              "max        999.000000\n",
              "Name: Price, dtype: float64"
            ],
            "text/html": [
              "<div>\n",
              "<style scoped>\n",
              "    .dataframe tbody tr th:only-of-type {\n",
              "        vertical-align: middle;\n",
              "    }\n",
              "\n",
              "    .dataframe tbody tr th {\n",
              "        vertical-align: top;\n",
              "    }\n",
              "\n",
              "    .dataframe thead th {\n",
              "        text-align: right;\n",
              "    }\n",
              "</style>\n",
              "<table border=\"1\" class=\"dataframe\">\n",
              "  <thead>\n",
              "    <tr style=\"text-align: right;\">\n",
              "      <th></th>\n",
              "      <th>Price</th>\n",
              "    </tr>\n",
              "  </thead>\n",
              "  <tbody>\n",
              "    <tr>\n",
              "      <th>count</th>\n",
              "      <td>30297.000000</td>\n",
              "    </tr>\n",
              "    <tr>\n",
              "      <th>mean</th>\n",
              "      <td>153.357032</td>\n",
              "    </tr>\n",
              "    <tr>\n",
              "      <th>std</th>\n",
              "      <td>108.895698</td>\n",
              "    </tr>\n",
              "    <tr>\n",
              "      <th>min</th>\n",
              "      <td>10.000000</td>\n",
              "    </tr>\n",
              "    <tr>\n",
              "      <th>25%</th>\n",
              "      <td>80.000000</td>\n",
              "    </tr>\n",
              "    <tr>\n",
              "      <th>50%</th>\n",
              "      <td>125.000000</td>\n",
              "    </tr>\n",
              "    <tr>\n",
              "      <th>75%</th>\n",
              "      <td>192.000000</td>\n",
              "    </tr>\n",
              "    <tr>\n",
              "      <th>max</th>\n",
              "      <td>999.000000</td>\n",
              "    </tr>\n",
              "  </tbody>\n",
              "</table>\n",
              "</div><br><label><b>dtype:</b> float64</label>"
            ]
          },
          "metadata": {},
          "execution_count": 23
        }
      ]
    },
    {
      "cell_type": "markdown",
      "source": [
        "The data is scaled badly because its right skewed. There are outliers in the right tail and due to the large standard deviation and smaller mean compared to the max value it is clear there are outliers."
      ],
      "metadata": {
        "id": "XoR9_2n-eKfU"
      }
    },
    {
      "cell_type": "code",
      "source": [
        "# Log conversion\n",
        "df['LogPrice'] = np.log(df['Price'])\n",
        "sns.kdeplot(data=df, x='LogPrice', log_scale=True)"
      ],
      "metadata": {
        "colab": {
          "base_uri": "https://localhost:8080/",
          "height": 470
        },
        "id": "fYadVV68ep27",
        "outputId": "f5a9fcbb-d323-4038-c825-d3bffc803f05"
      },
      "execution_count": 24,
      "outputs": [
        {
          "output_type": "execute_result",
          "data": {
            "text/plain": [
              "<Axes: xlabel='LogPrice', ylabel='Density'>"
            ]
          },
          "metadata": {},
          "execution_count": 24
        },
        {
          "output_type": "display_data",
          "data": {
            "text/plain": [
              "<Figure size 640x480 with 1 Axes>"
            ],
            "image/png": "[encoded data removed]"
          },
          "metadata": {}
        }
      ]
    },
    {
      "cell_type": "code",
      "source": [
        "df['LogPrice'].describe()"
      ],
      "metadata": {
        "colab": {
          "base_uri": "https://localhost:8080/",
          "height": 335
        },
        "id": "_Bcp2reWfkNj",
        "outputId": "350183eb-87a7-490d-e23e-1078039c3aef"
      },
      "execution_count": 25,
      "outputs": [
        {
          "output_type": "execute_result",
          "data": {
            "text/plain": [
              "count    30297.000000\n",
              "mean         4.845370\n",
              "std          0.596999\n",
              "min          2.302585\n",
              "25%          4.382027\n",
              "50%          4.828314\n",
              "75%          5.257495\n",
              "max          6.906755\n",
              "Name: LogPrice, dtype: float64"
            ],
            "text/html": [
              "<div>\n",
              "<style scoped>\n",
              "    .dataframe tbody tr th:only-of-type {\n",
              "        vertical-align: middle;\n",
              "    }\n",
              "\n",
              "    .dataframe tbody tr th {\n",
              "        vertical-align: top;\n",
              "    }\n",
              "\n",
              "    .dataframe thead th {\n",
              "        text-align: right;\n",
              "    }\n",
              "</style>\n",
              "<table border=\"1\" class=\"dataframe\">\n",
              "  <thead>\n",
              "    <tr style=\"text-align: right;\">\n",
              "      <th></th>\n",
              "      <th>LogPrice</th>\n",
              "    </tr>\n",
              "  </thead>\n",
              "  <tbody>\n",
              "    <tr>\n",
              "      <th>count</th>\n",
              "      <td>30297.000000</td>\n",
              "    </tr>\n",
              "    <tr>\n",
              "      <th>mean</th>\n",
              "      <td>4.845370</td>\n",
              "    </tr>\n",
              "    <tr>\n",
              "      <th>std</th>\n",
              "      <td>0.596999</td>\n",
              "    </tr>\n",
              "    <tr>\n",
              "      <th>min</th>\n",
              "      <td>2.302585</td>\n",
              "    </tr>\n",
              "    <tr>\n",
              "      <th>25%</th>\n",
              "      <td>4.382027</td>\n",
              "    </tr>\n",
              "    <tr>\n",
              "      <th>50%</th>\n",
              "      <td>4.828314</td>\n",
              "    </tr>\n",
              "    <tr>\n",
              "      <th>75%</th>\n",
              "      <td>5.257495</td>\n",
              "    </tr>\n",
              "    <tr>\n",
              "      <th>max</th>\n",
              "      <td>6.906755</td>\n",
              "    </tr>\n",
              "  </tbody>\n",
              "</table>\n",
              "</div><br><label><b>dtype:</b> float64</label>"
            ]
          },
          "metadata": {},
          "execution_count": 25
        }
      ]
    },
    {
      "cell_type": "markdown",
      "source": [
        "The data is scaled well as its not skewed. The data appears to have no outliers compared to the non-standardized values."
      ],
      "metadata": {
        "id": "x8ygoMaIfd37"
      }
    },
    {
      "cell_type": "markdown",
      "source": [
        "####Problem 3.5: Make a scatterplot of price_log and Beds. Describe what you see. Use .groupby() to compute a desciption of Price conditional on/grouped by the number of beds. Describe any patterns you see in the average price and standard deviation in prices."
      ],
      "metadata": {
        "id": "Qu1PxGUvgG_5"
      }
    },
    {
      "cell_type": "code",
      "source": [
        "sns.scatterplot(data=df, x='LogPrice', y='Beds' )"
      ],
      "metadata": {
        "colab": {
          "base_uri": "https://localhost:8080/",
          "height": 467
        },
        "id": "KHPQYVGQgNn9",
        "outputId": "02863a86-aed1-49b8-caa4-df13e1877258"
      },
      "execution_count": 26,
      "outputs": [
        {
          "output_type": "execute_result",
          "data": {
            "text/plain": [
              "<Axes: xlabel='LogPrice', ylabel='Beds'>"
            ]
          },
          "metadata": {},
          "execution_count": 26
        },
        {
          "output_type": "display_data",
          "data": {
            "text/plain": [
              "<Figure size 640x480 with 1 Axes>"
            ],
            "image/png": "[encoded data removed]"
          },
          "metadata": {}
        }
      ]
    },
    {
      "cell_type": "markdown",
      "source": [
        "In general, the data congregates over the larger prices and it appears to have little offerings in the lower price range."
      ],
      "metadata": {
        "id": "5QaZsL63gk5U"
      }
    },
    {
      "cell_type": "code",
      "source": [
        "df.groupby('Beds')['Price'].describe()"
      ],
      "metadata": {
        "colab": {
          "base_uri": "https://localhost:8080/",
          "height": 520
        },
        "id": "vt2nd8ELgxiw",
        "outputId": "eceb96f6-d6a1-447f-fa2c-5c1621738ab3"
      },
      "execution_count": 27,
      "outputs": [
        {
          "output_type": "execute_result",
          "data": {
            "text/plain": [
              "        count        mean         std    min     25%    50%     75%    max\n",
              "Beds                                                                      \n",
              "0.0       2.0   92.000000   38.183766   65.0   78.50   92.0  105.50  119.0\n",
              "1.0   20307.0  124.757670   75.685752   10.0   75.00  100.0  155.00  950.0\n",
              "2.0    6561.0  186.702332  115.044205   25.0  115.00  160.0  225.00  999.0\n",
              "3.0    2029.0  234.928043  142.288189   26.0  140.00  200.0  299.00  999.0\n",
              "4.0     766.0  280.554830  175.512312   27.0  150.00  240.0  363.75  999.0\n",
              "5.0     274.0  322.000000  190.319415   35.0  186.00  285.0  425.00  995.0\n",
              "6.0     166.0  316.313253  201.157585   35.0  183.75  271.0  399.00  900.0\n",
              "7.0      45.0  341.377778  220.116631   55.0  177.00  300.0  445.00  900.0\n",
              "8.0      20.0  331.850000  155.652202   55.0  218.75  339.5  408.75  750.0\n",
              "9.0      14.0  587.142857  208.351721  175.0  423.75  625.0  750.00  900.0\n",
              "10.0     15.0  442.200000  263.926992   95.0  287.00  400.0  650.00  975.0\n",
              "11.0      4.0  332.250000  236.798613  100.0  190.00  289.5  431.75  650.0\n",
              "12.0      3.0  225.000000   75.000000  150.0  187.50  225.0  262.50  300.0\n",
              "16.0      8.0  402.250000  235.093143  104.0  264.25  350.0  606.25  750.0"
            ],
            "text/html": [
              "\n",
              "  <div id=\"df-7c51fbb6-3031-4164-a4ea-44a185f4093a\" class=\"colab-df-container\">\n",
              "    <div>\n",
              "<style scoped>\n",
              "    .dataframe tbody tr th:only-of-type {\n",
              "        vertical-align: middle;\n",
              "    }\n",
              "\n",
              "    .dataframe tbody tr th {\n",
              "        vertical-align: top;\n",
              "    }\n",
              "\n",
              "    .dataframe thead th {\n",
              "        text-align: right;\n",
              "    }\n",
              "</style>\n",
              "<table border=\"1\" class=\"dataframe\">\n",
              "  <thead>\n",
              "    <tr style=\"text-align: right;\">\n",
              "      <th></th>\n",
              "      <th>count</th>\n",
              "      <th>mean</th>\n",
              "      <th>std</th>\n",
              "      <th>min</th>\n",
              "      <th>25%</th>\n",
              "      <th>50%</th>\n",
              "      <th>75%</th>\n",
              "      <th>max</th>\n",
              "    </tr>\n",
              "    <tr>\n",
              "      <th>Beds</th>\n",
              "      <th></th>\n",
              "      <th></th>\n",
              "      <th></th>\n",
              "      <th></th>\n",
              "      <th></th>\n",
              "      <th></th>\n",
              "      <th></th>\n",
              "      <th></th>\n",
              "    </tr>\n",
              "  </thead>\n",
              "  <tbody>\n",
              "    <tr>\n",
              "      <th>0.0</th>\n",
              "      <td>2.0</td>\n",
              "      <td>92.000000</td>\n",
              "      <td>38.183766</td>\n",
              "      <td>65.0</td>\n",
              "      <td>78.50</td>\n",
              "      <td>92.0</td>\n",
              "      <td>105.50</td>\n",
              "      <td>119.0</td>\n",
              "    </tr>\n",
              "    <tr>\n",
              "      <th>1.0</th>\n",
              "      <td>20307.0</td>\n",
              "      <td>124.757670</td>\n",
              "      <td>75.685752</td>\n",
              "      <td>10.0</td>\n",
              "      <td>75.00</td>\n",
              "      <td>100.0</td>\n",
              "      <td>155.00</td>\n",
              "      <td>950.0</td>\n",
              "    </tr>\n",
              "    <tr>\n",
              "      <th>2.0</th>\n",
              "      <td>6561.0</td>\n",
              "      <td>186.702332</td>\n",
              "      <td>115.044205</td>\n",
              "      <td>25.0</td>\n",
              "      <td>115.00</td>\n",
              "      <td>160.0</td>\n",
              "      <td>225.00</td>\n",
              "      <td>999.0</td>\n",
              "    </tr>\n",
              "    <tr>\n",
              "      <th>3.0</th>\n",
              "      <td>2029.0</td>\n",
              "      <td>234.928043</td>\n",
              "      <td>142.288189</td>\n",
              "      <td>26.0</td>\n",
              "      <td>140.00</td>\n",
              "      <td>200.0</td>\n",
              "      <td>299.00</td>\n",
              "      <td>999.0</td>\n",
              "    </tr>\n",
              "    <tr>\n",
              "      <th>4.0</th>\n",
              "      <td>766.0</td>\n",
              "      <td>280.554830</td>\n",
              "      <td>175.512312</td>\n",
              "      <td>27.0</td>\n",
              "      <td>150.00</td>\n",
              "      <td>240.0</td>\n",
              "      <td>363.75</td>\n",
              "      <td>999.0</td>\n",
              "    </tr>\n",
              "    <tr>\n",
              "      <th>5.0</th>\n",
              "      <td>274.0</td>\n",
              "      <td>322.000000</td>\n",
              "      <td>190.319415</td>\n",
              "      <td>35.0</td>\n",
              "      <td>186.00</td>\n",
              "      <td>285.0</td>\n",
              "      <td>425.00</td>\n",
              "      <td>995.0</td>\n",
              "    </tr>\n",
              "    <tr>\n",
              "      <th>6.0</th>\n",
              "      <td>166.0</td>\n",
              "      <td>316.313253</td>\n",
              "      <td>201.157585</td>\n",
              "      <td>35.0</td>\n",
              "      <td>183.75</td>\n",
              "      <td>271.0</td>\n",
              "      <td>399.00</td>\n",
              "      <td>900.0</td>\n",
              "    </tr>\n",
              "    <tr>\n",
              "      <th>7.0</th>\n",
              "      <td>45.0</td>\n",
              "      <td>341.377778</td>\n",
              "      <td>220.116631</td>\n",
              "      <td>55.0</td>\n",
              "      <td>177.00</td>\n",
              "      <td>300.0</td>\n",
              "      <td>445.00</td>\n",
              "      <td>900.0</td>\n",
              "    </tr>\n",
              "    <tr>\n",
              "      <th>8.0</th>\n",
              "      <td>20.0</td>\n",
              "      <td>331.850000</td>\n",
              "      <td>155.652202</td>\n",
              "      <td>55.0</td>\n",
              "      <td>218.75</td>\n",
              "      <td>339.5</td>\n",
              "      <td>408.75</td>\n",
              "      <td>750.0</td>\n",
              "    </tr>\n",
              "    <tr>\n",
              "      <th>9.0</th>\n",
              "      <td>14.0</td>\n",
              "      <td>587.142857</td>\n",
              "      <td>208.351721</td>\n",
              "      <td>175.0</td>\n",
              "      <td>423.75</td>\n",
              "      <td>625.0</td>\n",
              "      <td>750.00</td>\n",
              "      <td>900.0</td>\n",
              "    </tr>\n",
              "    <tr>\n",
              "      <th>10.0</th>\n",
              "      <td>15.0</td>\n",
              "      <td>442.200000</td>\n",
              "      <td>263.926992</td>\n",
              "      <td>95.0</td>\n",
              "      <td>287.00</td>\n",
              "      <td>400.0</td>\n",
              "      <td>650.00</td>\n",
              "      <td>975.0</td>\n",
              "    </tr>\n",
              "    <tr>\n",
              "      <th>11.0</th>\n",
              "      <td>4.0</td>\n",
              "      <td>332.250000</td>\n",
              "      <td>236.798613</td>\n",
              "      <td>100.0</td>\n",
              "      <td>190.00</td>\n",
              "      <td>289.5</td>\n",
              "      <td>431.75</td>\n",
              "      <td>650.0</td>\n",
              "    </tr>\n",
              "    <tr>\n",
              "      <th>12.0</th>\n",
              "      <td>3.0</td>\n",
              "      <td>225.000000</td>\n",
              "      <td>75.000000</td>\n",
              "      <td>150.0</td>\n",
              "      <td>187.50</td>\n",
              "      <td>225.0</td>\n",
              "      <td>262.50</td>\n",
              "      <td>300.0</td>\n",
              "    </tr>\n",
              "    <tr>\n",
              "      <th>16.0</th>\n",
              "      <td>8.0</td>\n",
              "      <td>402.250000</td>\n",
              "      <td>235.093143</td>\n",
              "      <td>104.0</td>\n",
              "      <td>264.25</td>\n",
              "      <td>350.0</td>\n",
              "      <td>606.25</td>\n",
              "      <td>750.0</td>\n",
              "    </tr>\n",
              "  </tbody>\n",
              "</table>\n",
              "</div>\n",
              "    <div class=\"colab-df-buttons\">\n",
              "\n",
              "  <div class=\"colab-df-container\">\n",
              "    <button class=\"colab-df-convert\" onclick=\"convertToInteractive('df-7c51fbb6-3031-4164-a4ea-44a185f4093a')\"\n",
              "            title=\"Convert this dataframe to an interactive table.\"\n",
              "            style=\"display:none;\">\n",
              "\n",
              "  <svg xmlns=\"http://www.w3.org/2000/svg\" height=\"24px\" viewBox=\"0 -960 960 960\">\n",
              "    <path d=\"M120-120v-720h720v720H120Zm60-500h600v-160H180v160Zm220 220h160v-160H400v160Zm0 220h160v-160H400v160ZM180-400h160v-160H180v160Zm440 0h160v-160H620v160ZM180-180h160v-160H180v160Zm440 0h160v-160H620v160Z\"/>\n",
              "  </svg>\n",
              "    </button>\n",
              "\n",
              "  <style>\n",
              "    .colab-df-container {\n",
              "      display:flex;\n",
              "      gap: 12px;\n",
              "    }\n",
              "\n",
              "    .colab-df-convert {\n",
              "      background-color: #E8F0FE;\n",
              "      border: none;\n",
              "      border-radius: 50%;\n",
              "      cursor: pointer;\n",
              "      display: none;\n",
              "      fill: #1967D2;\n",
              "      height: 32px;\n",
              "      padding: 0 0 0 0;\n",
              "      width: 32px;\n",
              "    }\n",
              "\n",
              "    .colab-df-convert:hover {\n",
              "      background-color: #E2EBFA;\n",
              "      box-shadow: 0px 1px 2px rgba(60, 64, 67, 0.3), 0px 1px 3px 1px rgba(60, 64, 67, 0.15);\n",
              "      fill: #174EA6;\n",
              "    }\n",
              "\n",
              "    .colab-df-buttons div {\n",
              "      margin-bottom: 4px;\n",
              "    }\n",
              "\n",
              "    [theme=dark] .colab-df-convert {\n",
              "      background-color: #3B4455;\n",
              "      fill: #D2E3FC;\n",
              "    }\n",
              "\n",
              "    [theme=dark] .colab-df-convert:hover {\n",
              "      background-color: #434B5C;\n",
              "      box-shadow: 0px 1px 3px 1px rgba(0, 0, 0, 0.15);\n",
              "      filter: drop-shadow(0px 1px 2px rgba(0, 0, 0, 0.3));\n",
              "      fill: #FFFFFF;\n",
              "    }\n",
              "  </style>\n",
              "\n",
              "    <script>\n",
              "      const buttonEl =\n",
              "        document.querySelector('#df-7c51fbb6-3031-4164-a4ea-44a185f4093a button.colab-df-convert');\n",
              "      buttonEl.style.display =\n",
              "        google.colab.kernel.accessAllowed ? 'block' : 'none';\n",
              "\n",
              "      async function convertToInteractive(key) {\n",
              "        const element = document.querySelector('#df-7c51fbb6-3031-4164-a4ea-44a185f4093a');\n",
              "        const dataTable =\n",
              "          await google.colab.kernel.invokeFunction('convertToInteractive',\n",
              "                                                    [key], {});\n",
              "        if (!dataTable) return;\n",
              "\n",
              "        const docLinkHtml = 'Like what you see? Visit the ' +\n",
              "          '<a target=\"_blank\" href=https://colab.research.google.com/notebooks/data_table.ipynb>data table notebook</a>'\n",
              "          + ' to learn more about interactive tables.';\n",
              "        element.innerHTML = '';\n",
              "        dataTable['output_type'] = 'display_data';\n",
              "        await google.colab.output.renderOutput(dataTable, element);\n",
              "        const docLink = document.createElement('div');\n",
              "        docLink.innerHTML = docLinkHtml;\n",
              "        element.appendChild(docLink);\n",
              "      }\n",
              "    </script>\n",
              "  </div>\n",
              "\n",
              "\n",
              "<div id=\"df-b20e8be1-37c4-47b1-88d2-da88d8656a25\">\n",
              "  <button class=\"colab-df-quickchart\" onclick=\"quickchart('df-b20e8be1-37c4-47b1-88d2-da88d8656a25')\"\n",
              "            title=\"Suggest charts\"\n",
              "            style=\"display:none;\">\n",
              "\n",
              "<svg xmlns=\"http://www.w3.org/2000/svg\" height=\"24px\"viewBox=\"0 0 24 24\"\n",
              "     width=\"24px\">\n",
              "    <g>\n",
              "        <path d=\"M19 3H5c-1.1 0-2 .9-2 2v14c0 1.1.9 2 2 2h14c1.1 0 2-.9 2-2V5c0-1.1-.9-2-2-2zM9 17H7v-7h2v7zm4 0h-2V7h2v10zm4 0h-2v-4h2v4z\"/>\n",
              "    </g>\n",
              "</svg>\n",
              "  </button>\n",
              "\n",
              "<style>\n",
              "  .colab-df-quickchart {\n",
              "      --bg-color: #E8F0FE;\n",
              "      --fill-color: #1967D2;\n",
              "      --hover-bg-color: #E2EBFA;\n",
              "      --hover-fill-color: #174EA6;\n",
              "      --disabled-fill-color: #AAA;\n",
              "      --disabled-bg-color: #DDD;\n",
              "  }\n",
              "\n",
              "  [theme=dark] .colab-df-quickchart {\n",
              "      --bg-color: #3B4455;\n",
              "      --fill-color: #D2E3FC;\n",
              "      --hover-bg-color: #434B5C;\n",
              "      --hover-fill-color: #FFFFFF;\n",
              "      --disabled-bg-color: #3B4455;\n",
              "      --disabled-fill-color: #666;\n",
              "  }\n",
              "\n",
              "  .colab-df-quickchart {\n",
              "    background-color: var(--bg-color);\n",
              "    border: none;\n",
              "    border-radius: 50%;\n",
              "    cursor: pointer;\n",
              "    display: none;\n",
              "    fill: var(--fill-color);\n",
              "    height: 32px;\n",
              "    padding: 0;\n",
              "    width: 32px;\n",
              "  }\n",
              "\n",
              "  .colab-df-quickchart:hover {\n",
              "    background-color: var(--hover-bg-color);\n",
              "    box-shadow: 0 1px 2px rgba(60, 64, 67, 0.3), 0 1px 3px 1px rgba(60, 64, 67, 0.15);\n",
              "    fill: var(--button-hover-fill-color);\n",
              "  }\n",
              "\n",
              "  .colab-df-quickchart-complete:disabled,\n",
              "  .colab-df-quickchart-complete:disabled:hover {\n",
              "    background-color: var(--disabled-bg-color);\n",
              "    fill: var(--disabled-fill-color);\n",
              "    box-shadow: none;\n",
              "  }\n",
              "\n",
              "  .colab-df-spinner {\n",
              "    border: 2px solid var(--fill-color);\n",
              "    border-color: transparent;\n",
              "    border-bottom-color: var(--fill-color);\n",
              "    animation:\n",
              "      spin 1s steps(1) infinite;\n",
              "  }\n",
              "\n",
              "  @keyframes spin {\n",
              "    0% {\n",
              "      border-color: transparent;\n",
              "      border-bottom-color: var(--fill-color);\n",
              "      border-left-color: var(--fill-color);\n",
              "    }\n",
              "    20% {\n",
              "      border-color: transparent;\n",
              "      border-left-color: var(--fill-color);\n",
              "      border-top-color: var(--fill-color);\n",
              "    }\n",
              "    30% {\n",
              "      border-color: transparent;\n",
              "      border-left-color: var(--fill-color);\n",
              "      border-top-color: var(--fill-color);\n",
              "      border-right-color: var(--fill-color);\n",
              "    }\n",
              "    40% {\n",
              "      border-color: transparent;\n",
              "      border-right-color: var(--fill-color);\n",
              "      border-top-color: var(--fill-color);\n",
              "    }\n",
              "    60% {\n",
              "      border-color: transparent;\n",
              "      border-right-color: var(--fill-color);\n",
              "    }\n",
              "    80% {\n",
              "      border-color: transparent;\n",
              "      border-right-color: var(--fill-color);\n",
              "      border-bottom-color: var(--fill-color);\n",
              "    }\n",
              "    90% {\n",
              "      border-color: transparent;\n",
              "      border-bottom-color: var(--fill-color);\n",
              "    }\n",
              "  }\n",
              "</style>\n",
              "\n",
              "  <script>\n",
              "    async function quickchart(key) {\n",
              "      const quickchartButtonEl =\n",
              "        document.querySelector('#' + key + ' button');\n",
              "      quickchartButtonEl.disabled = true;  // To prevent multiple clicks.\n",
              "      quickchartButtonEl.classList.add('colab-df-spinner');\n",
              "      try {\n",
              "        const charts = await google.colab.kernel.invokeFunction(\n",
              "            'suggestCharts', [key], {});\n",
              "      } catch (error) {\n",
              "        console.error('Error during call to suggestCharts:', error);\n",
              "      }\n",
              "      quickchartButtonEl.classList.remove('colab-df-spinner');\n",
              "      quickchartButtonEl.classList.add('colab-df-quickchart-complete');\n",
              "    }\n",
              "    (() => {\n",
              "      let quickchartButtonEl =\n",
              "        document.querySelector('#df-b20e8be1-37c4-47b1-88d2-da88d8656a25 button');\n",
              "      quickchartButtonEl.style.display =\n",
              "        google.colab.kernel.accessAllowed ? 'block' : 'none';\n",
              "    })();\n",
              "  </script>\n",
              "</div>\n",
              "\n",
              "    </div>\n",
              "  </div>\n"
            ],
            "application/vnd.google.colaboratory.intrinsic+json": {
              "type": "dataframe",
              "summary": "{\n  \"name\": \"df\",\n  \"rows\": 14,\n  \"fields\": [\n    {\n      \"column\": \"Beds\",\n      \"properties\": {\n        \"dtype\": \"number\",\n        \"std\": 4.598136268408879,\n        \"min\": 0.0,\n        \"max\": 16.0,\n        \"num_unique_values\": 14,\n        \"samples\": [\n          9.0,\n          11.0,\n          0.0\n        ],\n        \"semantic_type\": \"\",\n        \"description\": \"\"\n      }\n    },\n    {\n      \"column\": \"count\",\n      \"properties\": {\n        \"dtype\": \"number\",\n        \"std\": 5512.3917028558735,\n        \"min\": 2.0,\n        \"max\": 20307.0,\n        \"num_unique_values\": 14,\n        \"samples\": [\n          14.0,\n          4.0,\n          2.0\n        ],\n        \"semantic_type\": \"\",\n        \"description\": \"\"\n      }\n    },\n    {\n      \"column\": \"mean\",\n      \"properties\": {\n        \"dtype\": \"number\",\n        \"std\": 128.50162537379032,\n        \"min\": 92.0,\n        \"max\": 587.1428571428571,\n        \"num_unique_values\": 14,\n        \"samples\": [\n          587.1428571428571,\n          332.25,\n          92.0\n        ],\n        \"semantic_type\": \"\",\n        \"description\": \"\"\n      }\n    },\n    {\n      \"column\": \"std\",\n      \"properties\": {\n        \"dtype\": \"number\",\n        \"std\": 69.08788821307621,\n        \"min\": 38.18376618407357,\n        \"max\": 263.92699206950607,\n        \"num_unique_values\": 14,\n        \"samples\": [\n          208.35172080028417,\n          236.79861345314785,\n          38.18376618407357\n        ],\n        \"semantic_type\": \"\",\n        \"description\": \"\"\n      }\n    },\n    {\n      \"column\": \"min\",\n      \"properties\": {\n        \"dtype\": \"number\",\n        \"std\": 49.925493939018224,\n        \"min\": 10.0,\n        \"max\": 175.0,\n        \"num_unique_values\": 12,\n        \"samples\": [\n          150.0,\n          100.0,\n          65.0\n        ],\n        \"semantic_type\": \"\",\n        \"description\": \"\"\n      }\n    },\n    {\n      \"column\": \"25%\",\n      \"properties\": {\n        \"dtype\": \"number\",\n        \"std\": 90.29047294977752,\n        \"min\": 75.0,\n        \"max\": 423.75,\n        \"num_unique_values\": 14,\n        \"samples\": [\n          423.75,\n          190.0,\n          78.5\n        ],\n        \"semantic_type\": \"\",\n        \"description\": \"\"\n      }\n    },\n    {\n      \"column\": \"50%\",\n      \"properties\": {\n        \"dtype\": \"number\",\n        \"std\": 134.59295574532769,\n        \"min\": 92.0,\n        \"max\": 625.0,\n        \"num_unique_values\": 14,\n        \"samples\": [\n          625.0,\n          289.5,\n          92.0\n        ],\n        \"semantic_type\": \"\",\n        \"description\": \"\"\n      }\n    },\n    {\n      \"column\": \"75%\",\n      \"properties\": {\n        \"dtype\": \"number\",\n        \"std\": 183.69924730803461,\n        \"min\": 105.5,\n        \"max\": 750.0,\n        \"num_unique_values\": 14,\n        \"samples\": [\n          750.0,\n          431.75,\n          105.5\n        ],\n        \"semantic_type\": \"\",\n        \"description\": \"\"\n      }\n    },\n    {\n      \"column\": \"max\",\n      \"properties\": {\n        \"dtype\": \"number\",\n        \"std\": 274.7306373102991,\n        \"min\": 119.0,\n        \"max\": 999.0,\n        \"num_unique_values\": 9,\n        \"samples\": [\n          650.0,\n          950.0,\n          750.0\n        ],\n        \"semantic_type\": \"\",\n        \"description\": \"\"\n      }\n    }\n  ]\n}"
            }
          },
          "metadata": {},
          "execution_count": 27
        }
      ]
    },
    {
      "cell_type": "markdown",
      "source": [
        "The standard deviation appears to be extremely varied, as well as the mean theres no clear consistent pattern, as it increases and decreases among many values."
      ],
      "metadata": {
        "id": "iqZh0HGj9W1-"
      }
    },
    {
      "cell_type": "markdown",
      "source": [
        "####3.6 Make a scatterplot of price_log and Beds, but color the graph by Room Type and Property Type. What patterns do you see? Compute a description of Price conditional on Room Type and Property Type. Which Room Type and Property Type have the highest prices on average? Which have the highest standard deviation? Does the mean or median appear to be a more reliable estimate of central tendency, and explain why?"
      ],
      "metadata": {
        "id": "NixITdx69ssN"
      }
    },
    {
      "cell_type": "code",
      "source": [
        "sns.color_palette(\"Paired\")\n",
        "ax = sns.scatterplot(data=df, x='LogPrice', y='Beds',hue='Room Type', style='Property Type')\n",
        "sns.move_legend(ax, \"upper left\", bbox_to_anchor=(1, 1), title='Legend')"
      ],
      "metadata": {
        "colab": {
          "base_uri": "https://localhost:8080/",
          "height": 492
        },
        "id": "UY_GLE6N_4rr",
        "outputId": "5632181f-8778-41ff-99a9-39932956490a"
      },
      "execution_count": 28,
      "outputs": [
        {
          "output_type": "display_data",
          "data": {
            "text/plain": [
              "<Figure size 640x480 with 1 Axes>"
            ],
            "image/png": "[encoded data removed]"
          },
          "metadata": {}
        }
      ]
    },
    {
      "cell_type": "markdown",
      "source": [
        "It seems that entire homes tend to have more space and be more expensive. There seems to be a congregation around 1-7 beds, meaning those spaces are most common."
      ],
      "metadata": {
        "id": "fvX_0_yoGZBg"
      }
    },
    {
      "cell_type": "code",
      "source": [
        "df.groupby([\"Room Type\", \"Property Type\"])[\"Price\"].describe()"
      ],
      "metadata": {
        "colab": {
          "base_uri": "https://localhost:8080/",
          "height": 1000
        },
        "id": "_D8z5TASGm7k",
        "outputId": "972452c3-be88-4740-a075-707fe5256d65"
      },
      "execution_count": 29,
      "outputs": [
        {
          "output_type": "execute_result",
          "data": {
            "text/plain": [
              "                                   count        mean         std    min  \\\n",
              "Room Type       Property Type                                             \n",
              "Entire home/apt Apartment        15550.0  200.210161  109.967435   10.0   \n",
              "                Bed & Breakfast     13.0  184.538462  119.814172   85.0   \n",
              "                Boat                 7.0  158.428571   51.110524  100.0   \n",
              "                Bungalow             4.0  150.750000   46.464144   87.0   \n",
              "                Cabin                1.0  250.000000         NaN  250.0   \n",
              "                Camper/RV            6.0  114.333333  107.685963   45.0   \n",
              "                Condominium         71.0  281.126761  175.313998   80.0   \n",
              "                Dorm                 4.0   44.250000   24.060687   30.0   \n",
              "                House              723.0  234.554633  159.785974   27.0   \n",
              "                Lighthouse           1.0   39.000000         NaN   39.0   \n",
              "                Loft               379.0  284.910290  184.515517   55.0   \n",
              "                Other               10.0  290.800000  273.526273   66.0   \n",
              "                Townhouse           81.0  242.037037  166.755243   66.0   \n",
              "                Villa                3.0  206.333333   89.667906  120.0   \n",
              "Private room    Apartment        10741.0   91.605903   46.356168   10.0   \n",
              "                Bed & Breakfast    155.0   97.161290   47.031971   32.0   \n",
              "                Boat                 1.0  120.000000         NaN  120.0   \n",
              "                Cabin                1.0   80.000000         NaN   80.0   \n",
              "                Camper/RV            1.0   39.000000         NaN   39.0   \n",
              "                Castle               1.0  150.000000         NaN  150.0   \n",
              "                Chalet               1.0   99.000000         NaN   99.0   \n",
              "                Condominium         22.0   98.590909   40.576394   46.0   \n",
              "                Dorm                16.0   86.562500   40.738137   50.0   \n",
              "                House             1258.0   77.750397   49.402650   25.0   \n",
              "                Hut                  2.0   75.000000   35.355339   50.0   \n",
              "                Loft               310.0   99.077419   63.875489   39.0   \n",
              "                Other               28.0  176.642857  141.484252   39.0   \n",
              "                Tent                 4.0  126.250000   94.989034   40.0   \n",
              "                Townhouse           52.0   83.365385   30.578109   45.0   \n",
              "                Treehouse            1.0   95.000000         NaN   95.0   \n",
              "                Villa                4.0  126.250000   71.107313   60.0   \n",
              "Shared room     Apartment          684.0   77.853801   57.875888   20.0   \n",
              "                Bed & Breakfast     12.0  143.666667  245.328104   30.0   \n",
              "                Dorm                11.0   73.181818   46.328864   30.0   \n",
              "                House               79.0   46.822785   25.152743   10.0   \n",
              "                Loft                49.0   78.816327   87.521824   30.0   \n",
              "                Other                4.0  148.750000  134.806961   70.0   \n",
              "                Townhouse            1.0   95.000000         NaN   95.0   \n",
              "                Treehouse            3.0  167.666667  114.788211   95.0   \n",
              "\n",
              "                                    25%    50%     75%    max  \n",
              "Room Type       Property Type                                  \n",
              "Entire home/apt Apartment        135.00  175.0  230.00  999.0  \n",
              "                Bed & Breakfast  121.00  130.0  220.00  525.0  \n",
              "                Boat             122.50  150.0  182.00  250.0  \n",
              "                Bungalow         133.50  160.5  177.75  195.0  \n",
              "                Cabin            250.00  250.0  250.00  250.0  \n",
              "                Camper/RV         49.00   74.0  114.00  325.0  \n",
              "                Condominium      155.00  200.0  360.00  850.0  \n",
              "                Dorm              30.00   33.5   47.75   80.0  \n",
              "                House            125.00  188.0  299.00  950.0  \n",
              "                Lighthouse        39.00   39.0   39.00   39.0  \n",
              "                Loft             160.00  220.0  350.00  985.0  \n",
              "                Other            123.75  177.5  350.00  850.0  \n",
              "                Townhouse        135.00  189.0  295.00  900.0  \n",
              "                Villa            160.00  200.0  249.50  299.0  \n",
              "Private room    Apartment         65.00   82.0  101.00  999.0  \n",
              "                Bed & Breakfast   65.00   85.0  117.00  260.0  \n",
              "                Boat             120.00  120.0  120.00  120.0  \n",
              "                Cabin             80.00   80.0   80.00   80.0  \n",
              "                Camper/RV         39.00   39.0   39.00   39.0  \n",
              "                Castle           150.00  150.0  150.00  150.0  \n",
              "                Chalet            99.00   99.0   99.00   99.0  \n",
              "                Condominium       62.00   90.0  129.75  200.0  \n",
              "                Dorm              60.00   70.0   92.50  200.0  \n",
              "                House             55.00   69.0   88.75  997.0  \n",
              "                Hut               62.50   75.0   87.50  100.0  \n",
              "                Loft              65.00   85.0  110.75  855.0  \n",
              "                Other             80.00  114.0  200.00  500.0  \n",
              "                Tent              58.75  107.5  175.00  250.0  \n",
              "                Townhouse         55.00   80.0   99.00  150.0  \n",
              "                Treehouse         95.00   95.0   95.00   95.0  \n",
              "                Villa             67.50  125.0  183.75  195.0  \n",
              "Shared room     Apartment         49.00   66.0   90.00  950.0  \n",
              "                Bed & Breakfast   42.50   65.0   81.00  900.0  \n",
              "                Dorm              50.00   55.0   80.00  200.0  \n",
              "                House             35.00   45.0   45.00  225.0  \n",
              "                Loft              43.00   50.0   78.00  525.0  \n",
              "                Other             73.75   87.5  162.50  350.0  \n",
              "                Townhouse         95.00   95.0   95.00   95.0  \n",
              "                Treehouse        101.50  108.0  204.00  300.0  "
            ],
            "text/html": [
              "\n",
              "  <div id=\"df-b715c61e-f626-49a8-a2fd-44aeb419ac05\" class=\"colab-df-container\">\n",
              "    <div>\n",
              "<style scoped>\n",
              "    .dataframe tbody tr th:only-of-type {\n",
              "        vertical-align: middle;\n",
              "    }\n",
              "\n",
              "    .dataframe tbody tr th {\n",
              "        vertical-align: top;\n",
              "    }\n",
              "\n",
              "    .dataframe thead th {\n",
              "        text-align: right;\n",
              "    }\n",
              "</style>\n",
              "<table border=\"1\" class=\"dataframe\">\n",
              "  <thead>\n",
              "    <tr style=\"text-align: right;\">\n",
              "      <th></th>\n",
              "      <th></th>\n",
              "      <th>count</th>\n",
              "      <th>mean</th>\n",
              "      <th>std</th>\n",
              "      <th>min</th>\n",
              "      <th>25%</th>\n",
              "      <th>50%</th>\n",
              "      <th>75%</th>\n",
              "      <th>max</th>\n",
              "    </tr>\n",
              "    <tr>\n",
              "      <th>Room Type</th>\n",
              "      <th>Property Type</th>\n",
              "      <th></th>\n",
              "      <th></th>\n",
              "      <th></th>\n",
              "      <th></th>\n",
              "      <th></th>\n",
              "      <th></th>\n",
              "      <th></th>\n",
              "      <th></th>\n",
              "    </tr>\n",
              "  </thead>\n",
              "  <tbody>\n",
              "    <tr>\n",
              "      <th rowspan=\"14\" valign=\"top\">Entire home/apt</th>\n",
              "      <th>Apartment</th>\n",
              "      <td>15550.0</td>\n",
              "      <td>200.210161</td>\n",
              "      <td>109.967435</td>\n",
              "      <td>10.0</td>\n",
              "      <td>135.00</td>\n",
              "      <td>175.0</td>\n",
              "      <td>230.00</td>\n",
              "      <td>999.0</td>\n",
              "    </tr>\n",
              "    <tr>\n",
              "      <th>Bed &amp; Breakfast</th>\n",
              "      <td>13.0</td>\n",
              "      <td>184.538462</td>\n",
              "      <td>119.814172</td>\n",
              "      <td>85.0</td>\n",
              "      <td>121.00</td>\n",
              "      <td>130.0</td>\n",
              "      <td>220.00</td>\n",
              "      <td>525.0</td>\n",
              "    </tr>\n",
              "    <tr>\n",
              "      <th>Boat</th>\n",
              "      <td>7.0</td>\n",
              "      <td>158.428571</td>\n",
              "      <td>51.110524</td>\n",
              "      <td>100.0</td>\n",
              "      <td>122.50</td>\n",
              "      <td>150.0</td>\n",
              "      <td>182.00</td>\n",
              "      <td>250.0</td>\n",
              "    </tr>\n",
              "    <tr>\n",
              "      <th>Bungalow</th>\n",
              "      <td>4.0</td>\n",
              "      <td>150.750000</td>\n",
              "      <td>46.464144</td>\n",
              "      <td>87.0</td>\n",
              "      <td>133.50</td>\n",
              "      <td>160.5</td>\n",
              "      <td>177.75</td>\n",
              "      <td>195.0</td>\n",
              "    </tr>\n",
              "    <tr>\n",
              "      <th>Cabin</th>\n",
              "      <td>1.0</td>\n",
              "      <td>250.000000</td>\n",
              "      <td>NaN</td>\n",
              "      <td>250.0</td>\n",
              "      <td>250.00</td>\n",
              "      <td>250.0</td>\n",
              "      <td>250.00</td>\n",
              "      <td>250.0</td>\n",
              "    </tr>\n",
              "    <tr>\n",
              "      <th>Camper/RV</th>\n",
              "      <td>6.0</td>\n",
              "      <td>114.333333</td>\n",
              "      <td>107.685963</td>\n",
              "      <td>45.0</td>\n",
              "      <td>49.00</td>\n",
              "      <td>74.0</td>\n",
              "      <td>114.00</td>\n",
              "      <td>325.0</td>\n",
              "    </tr>\n",
              "    <tr>\n",
              "      <th>Condominium</th>\n",
              "      <td>71.0</td>\n",
              "      <td>281.126761</td>\n",
              "      <td>175.313998</td>\n",
              "      <td>80.0</td>\n",
              "      <td>155.00</td>\n",
              "      <td>200.0</td>\n",
              "      <td>360.00</td>\n",
              "      <td>850.0</td>\n",
              "    </tr>\n",
              "    <tr>\n",
              "      <th>Dorm</th>\n",
              "      <td>4.0</td>\n",
              "      <td>44.250000</td>\n",
              "      <td>24.060687</td>\n",
              "      <td>30.0</td>\n",
              "      <td>30.00</td>\n",
              "      <td>33.5</td>\n",
              "      <td>47.75</td>\n",
              "      <td>80.0</td>\n",
              "    </tr>\n",
              "    <tr>\n",
              "      <th>House</th>\n",
              "      <td>723.0</td>\n",
              "      <td>234.554633</td>\n",
              "      <td>159.785974</td>\n",
              "      <td>27.0</td>\n",
              "      <td>125.00</td>\n",
              "      <td>188.0</td>\n",
              "      <td>299.00</td>\n",
              "      <td>950.0</td>\n",
              "    </tr>\n",
              "    <tr>\n",
              "      <th>Lighthouse</th>\n",
              "      <td>1.0</td>\n",
              "      <td>39.000000</td>\n",
              "      <td>NaN</td>\n",
              "      <td>39.0</td>\n",
              "      <td>39.00</td>\n",
              "      <td>39.0</td>\n",
              "      <td>39.00</td>\n",
              "      <td>39.0</td>\n",
              "    </tr>\n",
              "    <tr>\n",
              "      <th>Loft</th>\n",
              "      <td>379.0</td>\n",
              "      <td>284.910290</td>\n",
              "      <td>184.515517</td>\n",
              "      <td>55.0</td>\n",
              "      <td>160.00</td>\n",
              "      <td>220.0</td>\n",
              "      <td>350.00</td>\n",
              "      <td>985.0</td>\n",
              "    </tr>\n",
              "    <tr>\n",
              "      <th>Other</th>\n",
              "      <td>10.0</td>\n",
              "      <td>290.800000</td>\n",
              "      <td>273.526273</td>\n",
              "      <td>66.0</td>\n",
              "      <td>123.75</td>\n",
              "      <td>177.5</td>\n",
              "      <td>350.00</td>\n",
              "      <td>850.0</td>\n",
              "    </tr>\n",
              "    <tr>\n",
              "      <th>Townhouse</th>\n",
              "      <td>81.0</td>\n",
              "      <td>242.037037</td>\n",
              "      <td>166.755243</td>\n",
              "      <td>66.0</td>\n",
              "      <td>135.00</td>\n",
              "      <td>189.0</td>\n",
              "      <td>295.00</td>\n",
              "      <td>900.0</td>\n",
              "    </tr>\n",
              "    <tr>\n",
              "      <th>Villa</th>\n",
              "      <td>3.0</td>\n",
              "      <td>206.333333</td>\n",
              "      <td>89.667906</td>\n",
              "      <td>120.0</td>\n",
              "      <td>160.00</td>\n",
              "      <td>200.0</td>\n",
              "      <td>249.50</td>\n",
              "      <td>299.0</td>\n",
              "    </tr>\n",
              "    <tr>\n",
              "      <th rowspan=\"17\" valign=\"top\">Private room</th>\n",
              "      <th>Apartment</th>\n",
              "      <td>10741.0</td>\n",
              "      <td>91.605903</td>\n",
              "      <td>46.356168</td>\n",
              "      <td>10.0</td>\n",
              "      <td>65.00</td>\n",
              "      <td>82.0</td>\n",
              "      <td>101.00</td>\n",
              "      <td>999.0</td>\n",
              "    </tr>\n",
              "    <tr>\n",
              "      <th>Bed &amp; Breakfast</th>\n",
              "      <td>155.0</td>\n",
              "      <td>97.161290</td>\n",
              "      <td>47.031971</td>\n",
              "      <td>32.0</td>\n",
              "      <td>65.00</td>\n",
              "      <td>85.0</td>\n",
              "      <td>117.00</td>\n",
              "      <td>260.0</td>\n",
              "    </tr>\n",
              "    <tr>\n",
              "      <th>Boat</th>\n",
              "      <td>1.0</td>\n",
              "      <td>120.000000</td>\n",
              "      <td>NaN</td>\n",
              "      <td>120.0</td>\n",
              "      <td>120.00</td>\n",
              "      <td>120.0</td>\n",
              "      <td>120.00</td>\n",
              "      <td>120.0</td>\n",
              "    </tr>\n",
              "    <tr>\n",
              "      <th>Cabin</th>\n",
              "      <td>1.0</td>\n",
              "      <td>80.000000</td>\n",
              "      <td>NaN</td>\n",
              "      <td>80.0</td>\n",
              "      <td>80.00</td>\n",
              "      <td>80.0</td>\n",
              "      <td>80.00</td>\n",
              "      <td>80.0</td>\n",
              "    </tr>\n",
              "    <tr>\n",
              "      <th>Camper/RV</th>\n",
              "      <td>1.0</td>\n",
              "      <td>39.000000</td>\n",
              "      <td>NaN</td>\n",
              "      <td>39.0</td>\n",
              "      <td>39.00</td>\n",
              "      <td>39.0</td>\n",
              "      <td>39.00</td>\n",
              "      <td>39.0</td>\n",
              "    </tr>\n",
              "    <tr>\n",
              "      <th>Castle</th>\n",
              "      <td>1.0</td>\n",
              "      <td>150.000000</td>\n",
              "      <td>NaN</td>\n",
              "      <td>150.0</td>\n",
              "      <td>150.00</td>\n",
              "      <td>150.0</td>\n",
              "      <td>150.00</td>\n",
              "      <td>150.0</td>\n",
              "    </tr>\n",
              "    <tr>\n",
              "      <th>Chalet</th>\n",
              "      <td>1.0</td>\n",
              "      <td>99.000000</td>\n",
              "      <td>NaN</td>\n",
              "      <td>99.0</td>\n",
              "      <td>99.00</td>\n",
              "      <td>99.0</td>\n",
              "      <td>99.00</td>\n",
              "      <td>99.0</td>\n",
              "    </tr>\n",
              "    <tr>\n",
              "      <th>Condominium</th>\n",
              "      <td>22.0</td>\n",
              "      <td>98.590909</td>\n",
              "      <td>40.576394</td>\n",
              "      <td>46.0</td>\n",
              "      <td>62.00</td>\n",
              "      <td>90.0</td>\n",
              "      <td>129.75</td>\n",
              "      <td>200.0</td>\n",
              "    </tr>\n",
              "    <tr>\n",
              "      <th>Dorm</th>\n",
              "      <td>16.0</td>\n",
              "      <td>86.562500</td>\n",
              "      <td>40.738137</td>\n",
              "      <td>50.0</td>\n",
              "      <td>60.00</td>\n",
              "      <td>70.0</td>\n",
              "      <td>92.50</td>\n",
              "      <td>200.0</td>\n",
              "    </tr>\n",
              "    <tr>\n",
              "      <th>House</th>\n",
              "      <td>1258.0</td>\n",
              "      <td>77.750397</td>\n",
              "      <td>49.402650</td>\n",
              "      <td>25.0</td>\n",
              "      <td>55.00</td>\n",
              "      <td>69.0</td>\n",
              "      <td>88.75</td>\n",
              "      <td>997.0</td>\n",
              "    </tr>\n",
              "    <tr>\n",
              "      <th>Hut</th>\n",
              "      <td>2.0</td>\n",
              "      <td>75.000000</td>\n",
              "      <td>35.355339</td>\n",
              "      <td>50.0</td>\n",
              "      <td>62.50</td>\n",
              "      <td>75.0</td>\n",
              "      <td>87.50</td>\n",
              "      <td>100.0</td>\n",
              "    </tr>\n",
              "    <tr>\n",
              "      <th>Loft</th>\n",
              "      <td>310.0</td>\n",
              "      <td>99.077419</td>\n",
              "      <td>63.875489</td>\n",
              "      <td>39.0</td>\n",
              "      <td>65.00</td>\n",
              "      <td>85.0</td>\n",
              "      <td>110.75</td>\n",
              "      <td>855.0</td>\n",
              "    </tr>\n",
              "    <tr>\n",
              "      <th>Other</th>\n",
              "      <td>28.0</td>\n",
              "      <td>176.642857</td>\n",
              "      <td>141.484252</td>\n",
              "      <td>39.0</td>\n",
              "      <td>80.00</td>\n",
              "      <td>114.0</td>\n",
              "      <td>200.00</td>\n",
              "      <td>500.0</td>\n",
              "    </tr>\n",
              "    <tr>\n",
              "      <th>Tent</th>\n",
              "      <td>4.0</td>\n",
              "      <td>126.250000</td>\n",
              "      <td>94.989034</td>\n",
              "      <td>40.0</td>\n",
              "      <td>58.75</td>\n",
              "      <td>107.5</td>\n",
              "      <td>175.00</td>\n",
              "      <td>250.0</td>\n",
              "    </tr>\n",
              "    <tr>\n",
              "      <th>Townhouse</th>\n",
              "      <td>52.0</td>\n",
              "      <td>83.365385</td>\n",
              "      <td>30.578109</td>\n",
              "      <td>45.0</td>\n",
              "      <td>55.00</td>\n",
              "      <td>80.0</td>\n",
              "      <td>99.00</td>\n",
              "      <td>150.0</td>\n",
              "    </tr>\n",
              "    <tr>\n",
              "      <th>Treehouse</th>\n",
              "      <td>1.0</td>\n",
              "      <td>95.000000</td>\n",
              "      <td>NaN</td>\n",
              "      <td>95.0</td>\n",
              "      <td>95.00</td>\n",
              "      <td>95.0</td>\n",
              "      <td>95.00</td>\n",
              "      <td>95.0</td>\n",
              "    </tr>\n",
              "    <tr>\n",
              "      <th>Villa</th>\n",
              "      <td>4.0</td>\n",
              "      <td>126.250000</td>\n",
              "      <td>71.107313</td>\n",
              "      <td>60.0</td>\n",
              "      <td>67.50</td>\n",
              "      <td>125.0</td>\n",
              "      <td>183.75</td>\n",
              "      <td>195.0</td>\n",
              "    </tr>\n",
              "    <tr>\n",
              "      <th rowspan=\"8\" valign=\"top\">Shared room</th>\n",
              "      <th>Apartment</th>\n",
              "      <td>684.0</td>\n",
              "      <td>77.853801</td>\n",
              "      <td>57.875888</td>\n",
              "      <td>20.0</td>\n",
              "      <td>49.00</td>\n",
              "      <td>66.0</td>\n",
              "      <td>90.00</td>\n",
              "      <td>950.0</td>\n",
              "    </tr>\n",
              "    <tr>\n",
              "      <th>Bed &amp; Breakfast</th>\n",
              "      <td>12.0</td>\n",
              "      <td>143.666667</td>\n",
              "      <td>245.328104</td>\n",
              "      <td>30.0</td>\n",
              "      <td>42.50</td>\n",
              "      <td>65.0</td>\n",
              "      <td>81.00</td>\n",
              "      <td>900.0</td>\n",
              "    </tr>\n",
              "    <tr>\n",
              "      <th>Dorm</th>\n",
              "      <td>11.0</td>\n",
              "      <td>73.181818</td>\n",
              "      <td>46.328864</td>\n",
              "      <td>30.0</td>\n",
              "      <td>50.00</td>\n",
              "      <td>55.0</td>\n",
              "      <td>80.00</td>\n",
              "      <td>200.0</td>\n",
              "    </tr>\n",
              "    <tr>\n",
              "      <th>House</th>\n",
              "      <td>79.0</td>\n",
              "      <td>46.822785</td>\n",
              "      <td>25.152743</td>\n",
              "      <td>10.0</td>\n",
              "      <td>35.00</td>\n",
              "      <td>45.0</td>\n",
              "      <td>45.00</td>\n",
              "      <td>225.0</td>\n",
              "    </tr>\n",
              "    <tr>\n",
              "      <th>Loft</th>\n",
              "      <td>49.0</td>\n",
              "      <td>78.816327</td>\n",
              "      <td>87.521824</td>\n",
              "      <td>30.0</td>\n",
              "      <td>43.00</td>\n",
              "      <td>50.0</td>\n",
              "      <td>78.00</td>\n",
              "      <td>525.0</td>\n",
              "    </tr>\n",
              "    <tr>\n",
              "      <th>Other</th>\n",
              "      <td>4.0</td>\n",
              "      <td>148.750000</td>\n",
              "      <td>134.806961</td>\n",
              "      <td>70.0</td>\n",
              "      <td>73.75</td>\n",
              "      <td>87.5</td>\n",
              "      <td>162.50</td>\n",
              "      <td>350.0</td>\n",
              "    </tr>\n",
              "    <tr>\n",
              "      <th>Townhouse</th>\n",
              "      <td>1.0</td>\n",
              "      <td>95.000000</td>\n",
              "      <td>NaN</td>\n",
              "      <td>95.0</td>\n",
              "      <td>95.00</td>\n",
              "      <td>95.0</td>\n",
              "      <td>95.00</td>\n",
              "      <td>95.0</td>\n",
              "    </tr>\n",
              "    <tr>\n",
              "      <th>Treehouse</th>\n",
              "      <td>3.0</td>\n",
              "      <td>167.666667</td>\n",
              "      <td>114.788211</td>\n",
              "      <td>95.0</td>\n",
              "      <td>101.50</td>\n",
              "      <td>108.0</td>\n",
              "      <td>204.00</td>\n",
              "      <td>300.0</td>\n",
              "    </tr>\n",
              "  </tbody>\n",
              "</table>\n",
              "</div>\n",
              "    <div class=\"colab-df-buttons\">\n",
              "\n",
              "  <div class=\"colab-df-container\">\n",
              "    <button class=\"colab-df-convert\" onclick=\"convertToInteractive('df-b715c61e-f626-49a8-a2fd-44aeb419ac05')\"\n",
              "            title=\"Convert this dataframe to an interactive table.\"\n",
              "            style=\"display:none;\">\n",
              "\n",
              "  <svg xmlns=\"http://www.w3.org/2000/svg\" height=\"24px\" viewBox=\"0 -960 960 960\">\n",
              "    <path d=\"M120-120v-720h720v720H120Zm60-500h600v-160H180v160Zm220 220h160v-160H400v160Zm0 220h160v-160H400v160ZM180-400h160v-160H180v160Zm440 0h160v-160H620v160ZM180-180h160v-160H180v160Zm440 0h160v-160H620v160Z\"/>\n",
              "  </svg>\n",
              "    </button>\n",
              "\n",
              "  <style>\n",
              "    .colab-df-container {\n",
              "      display:flex;\n",
              "      gap: 12px;\n",
              "    }\n",
              "\n",
              "    .colab-df-convert {\n",
              "      background-color: #E8F0FE;\n",
              "      border: none;\n",
              "      border-radius: 50%;\n",
              "      cursor: pointer;\n",
              "      display: none;\n",
              "      fill: #1967D2;\n",
              "      height: 32px;\n",
              "      padding: 0 0 0 0;\n",
              "      width: 32px;\n",
              "    }\n",
              "\n",
              "    .colab-df-convert:hover {\n",
              "      background-color: #E2EBFA;\n",
              "      box-shadow: 0px 1px 2px rgba(60, 64, 67, 0.3), 0px 1px 3px 1px rgba(60, 64, 67, 0.15);\n",
              "      fill: #174EA6;\n",
              "    }\n",
              "\n",
              "    .colab-df-buttons div {\n",
              "      margin-bottom: 4px;\n",
              "    }\n",
              "\n",
              "    [theme=dark] .colab-df-convert {\n",
              "      background-color: #3B4455;\n",
              "      fill: #D2E3FC;\n",
              "    }\n",
              "\n",
              "    [theme=dark] .colab-df-convert:hover {\n",
              "      background-color: #434B5C;\n",
              "      box-shadow: 0px 1px 3px 1px rgba(0, 0, 0, 0.15);\n",
              "      filter: drop-shadow(0px 1px 2px rgba(0, 0, 0, 0.3));\n",
              "      fill: #FFFFFF;\n",
              "    }\n",
              "  </style>\n",
              "\n",
              "    <script>\n",
              "      const buttonEl =\n",
              "        document.querySelector('#df-b715c61e-f626-49a8-a2fd-44aeb419ac05 button.colab-df-convert');\n",
              "      buttonEl.style.display =\n",
              "        google.colab.kernel.accessAllowed ? 'block' : 'none';\n",
              "\n",
              "      async function convertToInteractive(key) {\n",
              "        const element = document.querySelector('#df-b715c61e-f626-49a8-a2fd-44aeb419ac05');\n",
              "        const dataTable =\n",
              "          await google.colab.kernel.invokeFunction('convertToInteractive',\n",
              "                                                    [key], {});\n",
              "        if (!dataTable) return;\n",
              "\n",
              "        const docLinkHtml = 'Like what you see? Visit the ' +\n",
              "          '<a target=\"_blank\" href=https://colab.research.google.com/notebooks/data_table.ipynb>data table notebook</a>'\n",
              "          + ' to learn more about interactive tables.';\n",
              "        element.innerHTML = '';\n",
              "        dataTable['output_type'] = 'display_data';\n",
              "        await google.colab.output.renderOutput(dataTable, element);\n",
              "        const docLink = document.createElement('div');\n",
              "        docLink.innerHTML = docLinkHtml;\n",
              "        element.appendChild(docLink);\n",
              "      }\n",
              "    </script>\n",
              "  </div>\n",
              "\n",
              "\n",
              "<div id=\"df-97dbb766-a884-4007-b4a2-8837ea63bf12\">\n",
              "  <button class=\"colab-df-quickchart\" onclick=\"quickchart('df-97dbb766-a884-4007-b4a2-8837ea63bf12')\"\n",
              "            title=\"Suggest charts\"\n",
              "            style=\"display:none;\">\n",
              "\n",
              "<svg xmlns=\"http://www.w3.org/2000/svg\" height=\"24px\"viewBox=\"0 0 24 24\"\n",
              "     width=\"24px\">\n",
              "    <g>\n",
              "        <path d=\"M19 3H5c-1.1 0-2 .9-2 2v14c0 1.1.9 2 2 2h14c1.1 0 2-.9 2-2V5c0-1.1-.9-2-2-2zM9 17H7v-7h2v7zm4 0h-2V7h2v10zm4 0h-2v-4h2v4z\"/>\n",
              "    </g>\n",
              "</svg>\n",
              "  </button>\n",
              "\n",
              "<style>\n",
              "  .colab-df-quickchart {\n",
              "      --bg-color: #E8F0FE;\n",
              "      --fill-color: #1967D2;\n",
              "      --hover-bg-color: #E2EBFA;\n",
              "      --hover-fill-color: #174EA6;\n",
              "      --disabled-fill-color: #AAA;\n",
              "      --disabled-bg-color: #DDD;\n",
              "  }\n",
              "\n",
              "  [theme=dark] .colab-df-quickchart {\n",
              "      --bg-color: #3B4455;\n",
              "      --fill-color: #D2E3FC;\n",
              "      --hover-bg-color: #434B5C;\n",
              "      --hover-fill-color: #FFFFFF;\n",
              "      --disabled-bg-color: #3B4455;\n",
              "      --disabled-fill-color: #666;\n",
              "  }\n",
              "\n",
              "  .colab-df-quickchart {\n",
              "    background-color: var(--bg-color);\n",
              "    border: none;\n",
              "    border-radius: 50%;\n",
              "    cursor: pointer;\n",
              "    display: none;\n",
              "    fill: var(--fill-color);\n",
              "    height: 32px;\n",
              "    padding: 0;\n",
              "    width: 32px;\n",
              "  }\n",
              "\n",
              "  .colab-df-quickchart:hover {\n",
              "    background-color: var(--hover-bg-color);\n",
              "    box-shadow: 0 1px 2px rgba(60, 64, 67, 0.3), 0 1px 3px 1px rgba(60, 64, 67, 0.15);\n",
              "    fill: var(--button-hover-fill-color);\n",
              "  }\n",
              "\n",
              "  .colab-df-quickchart-complete:disabled,\n",
              "  .colab-df-quickchart-complete:disabled:hover {\n",
              "    background-color: var(--disabled-bg-color);\n",
              "    fill: var(--disabled-fill-color);\n",
              "    box-shadow: none;\n",
              "  }\n",
              "\n",
              "  .colab-df-spinner {\n",
              "    border: 2px solid var(--fill-color);\n",
              "    border-color: transparent;\n",
              "    border-bottom-color: var(--fill-color);\n",
              "    animation:\n",
              "      spin 1s steps(1) infinite;\n",
              "  }\n",
              "\n",
              "  @keyframes spin {\n",
              "    0% {\n",
              "      border-color: transparent;\n",
              "      border-bottom-color: var(--fill-color);\n",
              "      border-left-color: var(--fill-color);\n",
              "    }\n",
              "    20% {\n",
              "      border-color: transparent;\n",
              "      border-left-color: var(--fill-color);\n",
              "      border-top-color: var(--fill-color);\n",
              "    }\n",
              "    30% {\n",
              "      border-color: transparent;\n",
              "      border-left-color: var(--fill-color);\n",
              "      border-top-color: var(--fill-color);\n",
              "      border-right-color: var(--fill-color);\n",
              "    }\n",
              "    40% {\n",
              "      border-color: transparent;\n",
              "      border-right-color: var(--fill-color);\n",
              "      border-top-color: var(--fill-color);\n",
              "    }\n",
              "    60% {\n",
              "      border-color: transparent;\n",
              "      border-right-color: var(--fill-color);\n",
              "    }\n",
              "    80% {\n",
              "      border-color: transparent;\n",
              "      border-right-color: var(--fill-color);\n",
              "      border-bottom-color: var(--fill-color);\n",
              "    }\n",
              "    90% {\n",
              "      border-color: transparent;\n",
              "      border-bottom-color: var(--fill-color);\n",
              "    }\n",
              "  }\n",
              "</style>\n",
              "\n",
              "  <script>\n",
              "    async function quickchart(key) {\n",
              "      const quickchartButtonEl =\n",
              "        document.querySelector('#' + key + ' button');\n",
              "      quickchartButtonEl.disabled = true;  // To prevent multiple clicks.\n",
              "      quickchartButtonEl.classList.add('colab-df-spinner');\n",
              "      try {\n",
              "        const charts = await google.colab.kernel.invokeFunction(\n",
              "            'suggestCharts', [key], {});\n",
              "      } catch (error) {\n",
              "        console.error('Error during call to suggestCharts:', error);\n",
              "      }\n",
              "      quickchartButtonEl.classList.remove('colab-df-spinner');\n",
              "      quickchartButtonEl.classList.add('colab-df-quickchart-complete');\n",
              "    }\n",
              "    (() => {\n",
              "      let quickchartButtonEl =\n",
              "        document.querySelector('#df-97dbb766-a884-4007-b4a2-8837ea63bf12 button');\n",
              "      quickchartButtonEl.style.display =\n",
              "        google.colab.kernel.accessAllowed ? 'block' : 'none';\n",
              "    })();\n",
              "  </script>\n",
              "</div>\n",
              "\n",
              "    </div>\n",
              "  </div>\n"
            ],
            "application/vnd.google.colaboratory.intrinsic+json": {
              "type": "dataframe",
              "summary": "{\n  \"name\": \"df\",\n  \"rows\": 39,\n  \"fields\": [\n    {\n      \"column\": \"count\",\n      \"properties\": {\n        \"dtype\": \"number\",\n        \"std\": 2975.789373042479,\n        \"min\": 1.0,\n        \"max\": 15550.0,\n        \"num_unique_values\": 26,\n        \"samples\": [\n          379.0,\n          1258.0,\n          15550.0\n        ],\n        \"semantic_type\": \"\",\n        \"description\": \"\"\n      }\n    },\n    {\n      \"column\": \"mean\",\n      \"properties\": {\n        \"dtype\": \"number\",\n        \"std\": 70.596031007697,\n        \"min\": 39.0,\n        \"max\": 290.8,\n        \"num_unique_values\": 36,\n        \"samples\": [\n          167.66666666666666,\n          206.33333333333334,\n          126.25\n        ],\n        \"semantic_type\": \"\",\n        \"description\": \"\"\n      }\n    },\n    {\n      \"column\": \"std\",\n      \"properties\": {\n        \"dtype\": \"number\",\n        \"std\": 65.2072172750034,\n        \"min\": 24.060687161148714,\n        \"max\": 273.52627336733525,\n        \"num_unique_values\": 30,\n        \"samples\": [\n          87.52182429480749,\n          40.73813733264364,\n          57.875888061541545\n        ],\n        \"semantic_type\": \"\",\n        \"description\": \"\"\n      }\n    },\n    {\n      \"column\": \"min\",\n      \"properties\": {\n        \"dtype\": \"number\",\n        \"std\": 45.59313701698901,\n        \"min\": 10.0,\n        \"max\": 250.0,\n        \"num_unique_values\": 24,\n        \"samples\": [\n          27.0,\n          46.0,\n          10.0\n        ],\n        \"semantic_type\": \"\",\n        \"description\": \"\"\n      }\n    },\n    {\n      \"column\": \"25%\",\n      \"properties\": {\n        \"dtype\": \"number\",\n        \"std\": 47.20559556198474,\n        \"min\": 30.0,\n        \"max\": 250.0,\n        \"num_unique_values\": 30,\n        \"samples\": [\n          43.0,\n          150.0,\n          67.5\n        ],\n        \"semantic_type\": \"\",\n        \"description\": \"\"\n      }\n    },\n    {\n      \"column\": \"50%\",\n      \"properties\": {\n        \"dtype\": \"number\",\n        \"std\": 55.56823078526604,\n        \"min\": 33.5,\n        \"max\": 250.0,\n        \"num_unique_values\": 33,\n        \"samples\": [\n          87.5,\n          120.0,\n          66.0\n        ],\n        \"semantic_type\": \"\",\n        \"description\": \"\"\n      }\n    },\n    {\n      \"column\": \"75%\",\n      \"properties\": {\n        \"dtype\": \"number\",\n        \"std\": 89.82766667196746,\n        \"min\": 39.0,\n        \"max\": 360.0,\n        \"num_unique_values\": 34,\n        \"samples\": [\n          120.0,\n          129.75,\n          183.75\n        ],\n        \"semantic_type\": \"\",\n        \"description\": \"\"\n      }\n    },\n    {\n      \"column\": \"max\",\n      \"properties\": {\n        \"dtype\": \"number\",\n        \"std\": 345.8933299176373,\n        \"min\": 39.0,\n        \"max\": 999.0,\n        \"num_unique_values\": 25,\n        \"samples\": [\n          39.0,\n          200.0,\n          999.0\n        ],\n        \"semantic_type\": \"\",\n        \"description\": \"\"\n      }\n    }\n  ]\n}"
            }
          },
          "metadata": {},
          "execution_count": 29
        }
      ]
    },
    {
      "cell_type": "markdown",
      "source": [
        "The most expensive option appears to be lofts that are an entire home/apt at an average of 284.91. The highest standard deviation is the other option for entire home/apt at a standard deviation of 273.53. The median appears to be more reliable because it appears there a large deviances between the median and mean meaning the data contains a high number of outliers that skew the mean."
      ],
      "metadata": {
        "id": "DEwM8RwRLjla"
      }
    },
    {
      "cell_type": "markdown",
      "source": [
        "####3.7 We've looked a bit at this price_log and Beds scatterplot. Use seaborn to make a jointplot with kind=hex. Where are the data actually distributed? How does it affect the way you think about the plots in 5 and 6?"
      ],
      "metadata": {
        "id": "PZL4FjqI93lm"
      }
    },
    {
      "cell_type": "code",
      "source": [
        "sns.jointplot(data=df, x='LogPrice', y='Beds',kind='hex')"
      ],
      "metadata": {
        "colab": {
          "base_uri": "https://localhost:8080/",
          "height": 625
        },
        "id": "cKOGbaKfMbvZ",
        "outputId": "8f800583-994a-4898-c045-e3b6155fdd67"
      },
      "execution_count": 30,
      "outputs": [
        {
          "output_type": "execute_result",
          "data": {
            "text/plain": [
              "<seaborn.axisgrid.JointGrid at 0x7da1771d3490>"
            ]
          },
          "metadata": {},
          "execution_count": 30
        },
        {
          "output_type": "display_data",
          "data": {
            "text/plain": [
              "<Figure size 600x600 with 3 Axes>"
            ],
            "image/png": "[encoded data removed]"
          },
          "metadata": {}
        }
      ]
    },
    {
      "cell_type": "markdown",
      "source": [
        "It appears the data is congregated at a medium price and low number of beds. It changes my opinion that the data is more spread out than I thought from my findings in 5 and 6."
      ],
      "metadata": {
        "id": "z8kyVoj2Mrj-"
      }
    },
    {
      "cell_type": "markdown",
      "metadata": {
        "id": "n6ovoK3kIf5S"
      },
      "source": [
        "**Q4.** This question looks at a time series of the number of active oil drilling rigs in the United States over time. The data comes from the Energy Information Agency.\n",
        "\n",
        "1. Load `./data/drilling_rigs.csv` and examine the data. How many observations? How many variables? Are numeric variables correctly read in by Pandas, or will some variables have to be typecast/coerced? Explain clearly how these data need to be cleaned.\n",
        "2. To convert the `Month` variable to an ordered datetime variable, use `df['time'] = pd.to_datetime(df['Month'], format='mixed')`.\n",
        "3. Let's look at `Active Well Service Rig Count (Number of Rigs)`, which is the total number of rigs over time. Make a line plot of this time series. Describe what you see.\n",
        "4. Instead of levels, we want to look at change over time. Compute the first difference of  `Active Well Service Rig Count (Number of Rigs)` and plot it over time. Describe what you see.\n",
        "5. The first two columns are the number of onshore and offshore rigs, respectively. Melt these columns and plot the resulting series."
      ]
    },
    {
      "cell_type": "markdown",
      "source": [
        "#### 4.1 Load ./data/drilling_rigs.csv and examine the data. How many observations? How many variables? Are numeric variables correctly read in by Pandas, or will some variables have to be typecast/coerced? Explain clearly how these data need to be cleaned."
      ],
      "metadata": {
        "id": "lmLvqXB7M9IU"
      }
    },
    {
      "cell_type": "code",
      "source": [
        "df = pd.read_csv('/content/drilling_rigs.csv')\n",
        "df.shape"
      ],
      "metadata": {
        "colab": {
          "base_uri": "https://localhost:8080/"
        },
        "id": "wIXT076RNP-h",
        "outputId": "62ce4c65-3da3-4631-d7b0-8e52652befcb"
      },
      "execution_count": 31,
      "outputs": [
        {
          "output_type": "execute_result",
          "data": {
            "text/plain": [
              "(623, 10)"
            ]
          },
          "metadata": {},
          "execution_count": 31
        }
      ]
    },
    {
      "cell_type": "markdown",
      "source": [
        "There are 6230 observations(623x10). There are also 10 variables in the data set."
      ],
      "metadata": {
        "id": "IXZRY_m-Nlgv"
      }
    },
    {
      "cell_type": "code",
      "source": [
        "df.dtypes"
      ],
      "metadata": {
        "colab": {
          "base_uri": "https://localhost:8080/",
          "height": 450
        },
        "id": "vCMNSPDyNdb-",
        "outputId": "c62ef03c-2a73-4e67-922a-4c7bcb07092e"
      },
      "execution_count": 32,
      "outputs": [
        {
          "output_type": "execute_result",
          "data": {
            "text/plain": [
              "Month                                                                                          object\n",
              "Crude Oil and Natural Gas Rotary Rigs in Operation, Onshore (Number of Rigs)                    int64\n",
              "Crude Oil and Natural Gas Rotary Rigs in Operation, Offshore (Number of Rigs)                   int64\n",
              "Crude Oil Rotary Rigs in Operation, Total (Number of Rigs)                                     object\n",
              "Natural Gas Rotary Rigs in Operation, Total (Number of Rigs)                                   object\n",
              "Crude Oil and Natural Gas Rotary Rigs in Operation, Horizontal Trajectory (Number of Rigs)     object\n",
              "Crude Oil and Natural Gas Rotary Rigs in Operation, Directional Trajectory (Number of Rigs)    object\n",
              "Crude Oil and Natural Gas Rotary Rigs in Operation, Vertical Trajectory (Number of Rigs)       object\n",
              "Crude Oil and Natural Gas Rotary Rigs in Operation, Total (Number of Rigs)                      int64\n",
              "Active Well Service Rig Count (Number of Rigs)                                                 object\n",
              "dtype: object"
            ],
            "text/html": [
              "<div>\n",
              "<style scoped>\n",
              "    .dataframe tbody tr th:only-of-type {\n",
              "        vertical-align: middle;\n",
              "    }\n",
              "\n",
              "    .dataframe tbody tr th {\n",
              "        vertical-align: top;\n",
              "    }\n",
              "\n",
              "    .dataframe thead th {\n",
              "        text-align: right;\n",
              "    }\n",
              "</style>\n",
              "<table border=\"1\" class=\"dataframe\">\n",
              "  <thead>\n",
              "    <tr style=\"text-align: right;\">\n",
              "      <th></th>\n",
              "      <th>0</th>\n",
              "    </tr>\n",
              "  </thead>\n",
              "  <tbody>\n",
              "    <tr>\n",
              "      <th>Month</th>\n",
              "      <td>object</td>\n",
              "    </tr>\n",
              "    <tr>\n",
              "      <th>Crude Oil and Natural Gas Rotary Rigs in Operation, Onshore (Number of Rigs)</th>\n",
              "      <td>int64</td>\n",
              "    </tr>\n",
              "    <tr>\n",
              "      <th>Crude Oil and Natural Gas Rotary Rigs in Operation, Offshore (Number of Rigs)</th>\n",
              "      <td>int64</td>\n",
              "    </tr>\n",
              "    <tr>\n",
              "      <th>Crude Oil Rotary Rigs in Operation, Total (Number of Rigs)</th>\n",
              "      <td>object</td>\n",
              "    </tr>\n",
              "    <tr>\n",
              "      <th>Natural Gas Rotary Rigs in Operation, Total (Number of Rigs)</th>\n",
              "      <td>object</td>\n",
              "    </tr>\n",
              "    <tr>\n",
              "      <th>Crude Oil and Natural Gas Rotary Rigs in Operation, Horizontal Trajectory (Number of Rigs)</th>\n",
              "      <td>object</td>\n",
              "    </tr>\n",
              "    <tr>\n",
              "      <th>Crude Oil and Natural Gas Rotary Rigs in Operation, Directional Trajectory (Number of Rigs)</th>\n",
              "      <td>object</td>\n",
              "    </tr>\n",
              "    <tr>\n",
              "      <th>Crude Oil and Natural Gas Rotary Rigs in Operation, Vertical Trajectory (Number of Rigs)</th>\n",
              "      <td>object</td>\n",
              "    </tr>\n",
              "    <tr>\n",
              "      <th>Crude Oil and Natural Gas Rotary Rigs in Operation, Total (Number of Rigs)</th>\n",
              "      <td>int64</td>\n",
              "    </tr>\n",
              "    <tr>\n",
              "      <th>Active Well Service Rig Count (Number of Rigs)</th>\n",
              "      <td>object</td>\n",
              "    </tr>\n",
              "  </tbody>\n",
              "</table>\n",
              "</div><br><label><b>dtype:</b> object</label>"
            ]
          },
          "metadata": {},
          "execution_count": 32
        }
      ]
    },
    {
      "cell_type": "markdown",
      "source": [
        "There are multiple columns that types will need to be changed, Crude Oil Rotary Rigs in Operation, Natural Gas Rotary Rigs in Operation, Crude Oil and Natural Gas Rotary Rigs in Operation, Crude Oil and Natural Gas Rotary Rigs in Operation, Crude Oil and Natural Gas Rotary Rigs in Operation, and Active Well Service Rig Count. All of these columns represent the number of rigs that have these characteristics, and are being read as an object instead of a numeric data type(int64). Month should also be converted to a datetime variable. Therefore, their data type will have to be changed.\n"
      ],
      "metadata": {
        "id": "keKk6HNpN8oM"
      }
    },
    {
      "cell_type": "markdown",
      "source": [
        "####4.2 To convert the Month variable to an ordered datetime variable, use df['time'] = pd.to_datetime(df['Month'], format='mixed').\n",
        "\n"
      ],
      "metadata": {
        "id": "R1zAtvEnI_Cb"
      }
    },
    {
      "cell_type": "code",
      "source": [
        "df.columns"
      ],
      "metadata": {
        "colab": {
          "base_uri": "https://localhost:8080/"
        },
        "id": "gz1h27ZtPDt_",
        "outputId": "eef4d8ae-6066-44d1-8457-da91b781acc7"
      },
      "execution_count": 35,
      "outputs": [
        {
          "output_type": "execute_result",
          "data": {
            "text/plain": [
              "Index(['Month',\n",
              "       'Crude Oil and Natural Gas Rotary Rigs in Operation, Onshore (Number of Rigs)',\n",
              "       'Crude Oil and Natural Gas Rotary Rigs in Operation, Offshore (Number of Rigs)',\n",
              "       'Crude Oil Rotary Rigs in Operation, Total (Number of Rigs)',\n",
              "       'Natural Gas Rotary Rigs in Operation, Total (Number of Rigs)',\n",
              "       'Crude Oil and Natural Gas Rotary Rigs in Operation, Horizontal Trajectory (Number of Rigs)',\n",
              "       'Crude Oil and Natural Gas Rotary Rigs in Operation, Directional Trajectory (Number of Rigs)',\n",
              "       'Crude Oil and Natural Gas Rotary Rigs in Operation, Vertical Trajectory (Number of Rigs)',\n",
              "       'Crude Oil and Natural Gas Rotary Rigs in Operation, Total (Number of Rigs)',\n",
              "       'Active Well Service Rig Count (Number of Rigs)', 'time'],\n",
              "      dtype='object')"
            ]
          },
          "metadata": {},
          "execution_count": 35
        }
      ]
    },
    {
      "cell_type": "code",
      "source": [
        "df['Crude Oil Rotary Rigs in Operation, Total (Number of Rigs)'] = pd.to_numeric(df['Crude Oil Rotary Rigs in Operation, Total (Number of Rigs)'], errors='coerce')"
      ],
      "metadata": {
        "id": "9QAgOD7nQLay"
      },
      "execution_count": 49,
      "outputs": []
    },
    {
      "cell_type": "code",
      "source": [
        "df['Natural Gas Rotary Rigs in Operation, Total (Number of Rigs)'] = pd.to_numeric(df['Natural Gas Rotary Rigs in Operation, Total (Number of Rigs)'], errors='coerce')"
      ],
      "metadata": {
        "id": "jJOcuk5cQZzV"
      },
      "execution_count": 51,
      "outputs": []
    },
    {
      "cell_type": "code",
      "source": [
        "df['Crude Oil and Natural Gas Rotary Rigs in Operation, Horizontal Trajectory (Number of Rigs)'] = pd.to_numeric(df['Crude Oil and Natural Gas Rotary Rigs in Operation, Horizontal Trajectory (Number of Rigs)'], errors='coerce')"
      ],
      "metadata": {
        "id": "EoT4gaU_Q3iA"
      },
      "execution_count": 52,
      "outputs": []
    },
    {
      "cell_type": "code",
      "source": [
        "df['Crude Oil and Natural Gas Rotary Rigs in Operation, Directional Trajectory (Number of Rigs)'] = pd.to_numeric(df['Crude Oil and Natural Gas Rotary Rigs in Operation, Directional Trajectory (Number of Rigs)'], errors='coerce')"
      ],
      "metadata": {
        "id": "qZPNphkeRphq"
      },
      "execution_count": 55,
      "outputs": []
    },
    {
      "cell_type": "code",
      "source": [
        "df['Crude Oil and Natural Gas Rotary Rigs in Operation, Vertical Trajectory (Number of Rigs)'] = pd.to_numeric(df['Crude Oil and Natural Gas Rotary Rigs in Operation, Vertical Trajectory (Number of Rigs)'], errors='coerce')"
      ],
      "metadata": {
        "id": "5M-2IPDzR9vt"
      },
      "execution_count": 57,
      "outputs": []
    },
    {
      "cell_type": "code",
      "source": [
        "df['Active Well Service Rig Count (Number of Rigs)']=pd.to_numeric(df['Active Well Service Rig Count (Number of Rigs)'], errors='coerce')"
      ],
      "metadata": {
        "id": "j0vF2By6R8Kw"
      },
      "execution_count": 58,
      "outputs": []
    },
    {
      "cell_type": "code",
      "source": [
        "df['time'] = pd.to_datetime(df['Month'], format='mixed')"
      ],
      "metadata": {
        "id": "FXJd-z7cJghE"
      },
      "execution_count": 34,
      "outputs": []
    },
    {
      "cell_type": "code",
      "source": [
        "df.dtypes"
      ],
      "metadata": {
        "colab": {
          "base_uri": "https://localhost:8080/",
          "height": 516
        },
        "id": "oj0YXF-nSdWW",
        "outputId": "165d3a98-1de6-4559-c814-f2005d8e1354"
      },
      "execution_count": 59,
      "outputs": [
        {
          "output_type": "execute_result",
          "data": {
            "text/plain": [
              "Month                                                                                                  object\n",
              "Crude Oil and Natural Gas Rotary Rigs in Operation, Onshore (Number of Rigs)                            int64\n",
              "Crude Oil and Natural Gas Rotary Rigs in Operation, Offshore (Number of Rigs)                           int64\n",
              "Crude Oil Rotary Rigs in Operation, Total (Number of Rigs)                                            float64\n",
              "Natural Gas Rotary Rigs in Operation, Total (Number of Rigs)                                          float64\n",
              "Crude Oil and Natural Gas Rotary Rigs in Operation, Horizontal Trajectory (Number of Rigs)            float64\n",
              "Crude Oil and Natural Gas Rotary Rigs in Operation, Directional Trajectory (Number of Rigs)           float64\n",
              "Crude Oil and Natural Gas Rotary Rigs in Operation, Vertical Trajectory (Number of Rigs)              float64\n",
              "Crude Oil and Natural Gas Rotary Rigs in Operation, Total (Number of Rigs)                              int64\n",
              "Active Well Service Rig Count (Number of Rigs)                                                        float64\n",
              "time                                                                                           datetime64[ns]\n",
              "dtype: object"
            ],
            "text/html": [
              "<div>\n",
              "<style scoped>\n",
              "    .dataframe tbody tr th:only-of-type {\n",
              "        vertical-align: middle;\n",
              "    }\n",
              "\n",
              "    .dataframe tbody tr th {\n",
              "        vertical-align: top;\n",
              "    }\n",
              "\n",
              "    .dataframe thead th {\n",
              "        text-align: right;\n",
              "    }\n",
              "</style>\n",
              "<table border=\"1\" class=\"dataframe\">\n",
              "  <thead>\n",
              "    <tr style=\"text-align: right;\">\n",
              "      <th></th>\n",
              "      <th>0</th>\n",
              "    </tr>\n",
              "  </thead>\n",
              "  <tbody>\n",
              "    <tr>\n",
              "      <th>Month</th>\n",
              "      <td>object</td>\n",
              "    </tr>\n",
              "    <tr>\n",
              "      <th>Crude Oil and Natural Gas Rotary Rigs in Operation, Onshore (Number of Rigs)</th>\n",
              "      <td>int64</td>\n",
              "    </tr>\n",
              "    <tr>\n",
              "      <th>Crude Oil and Natural Gas Rotary Rigs in Operation, Offshore (Number of Rigs)</th>\n",
              "      <td>int64</td>\n",
              "    </tr>\n",
              "    <tr>\n",
              "      <th>Crude Oil Rotary Rigs in Operation, Total (Number of Rigs)</th>\n",
              "      <td>float64</td>\n",
              "    </tr>\n",
              "    <tr>\n",
              "      <th>Natural Gas Rotary Rigs in Operation, Total (Number of Rigs)</th>\n",
              "      <td>float64</td>\n",
              "    </tr>\n",
              "    <tr>\n",
              "      <th>Crude Oil and Natural Gas Rotary Rigs in Operation, Horizontal Trajectory (Number of Rigs)</th>\n",
              "      <td>float64</td>\n",
              "    </tr>\n",
              "    <tr>\n",
              "      <th>Crude Oil and Natural Gas Rotary Rigs in Operation, Directional Trajectory (Number of Rigs)</th>\n",
              "      <td>float64</td>\n",
              "    </tr>\n",
              "    <tr>\n",
              "      <th>Crude Oil and Natural Gas Rotary Rigs in Operation, Vertical Trajectory (Number of Rigs)</th>\n",
              "      <td>float64</td>\n",
              "    </tr>\n",
              "    <tr>\n",
              "      <th>Crude Oil and Natural Gas Rotary Rigs in Operation, Total (Number of Rigs)</th>\n",
              "      <td>int64</td>\n",
              "    </tr>\n",
              "    <tr>\n",
              "      <th>Active Well Service Rig Count (Number of Rigs)</th>\n",
              "      <td>float64</td>\n",
              "    </tr>\n",
              "    <tr>\n",
              "      <th>time</th>\n",
              "      <td>datetime64[ns]</td>\n",
              "    </tr>\n",
              "  </tbody>\n",
              "</table>\n",
              "</div><br><label><b>dtype:</b> object</label>"
            ]
          },
          "metadata": {},
          "execution_count": 59
        }
      ]
    },
    {
      "cell_type": "markdown",
      "source": [
        "I ran the code below for each column to check if they contained any missing values before converting"
      ],
      "metadata": {
        "id": "4sEbro0gQFj7"
      }
    },
    {
      "cell_type": "code",
      "source": [
        "if df['Active Well Service Rig Count (Number of Rigs)'].isnull().any():\n",
        "  x = 0\n",
        "  x +=1\n",
        "else:\n",
        "  x = 0\n",
        "\n",
        "print(x)"
      ],
      "metadata": {
        "colab": {
          "base_uri": "https://localhost:8080/"
        },
        "id": "dfkfEcalJhxg",
        "outputId": "8567dffd-2eb8-4717-cd0e-7b197a62fd03"
      },
      "execution_count": 48,
      "outputs": [
        {
          "output_type": "stream",
          "name": "stdout",
          "text": [
            "0\n"
          ]
        }
      ]
    },
    {
      "cell_type": "markdown",
      "source": [
        "#### 4.3 Let's look at Active Well Service Rig Count (Number of Rigs), which is the total number of rigs over time. Make a line plot of this time series. Describe what you see."
      ],
      "metadata": {
        "id": "Qk8DJPXZS9RU"
      }
    },
    {
      "cell_type": "code",
      "source": [
        "plt.plot(df['time'],df['Active Well Service Rig Count (Number of Rigs)'])\n",
        "plt.show()"
      ],
      "metadata": {
        "colab": {
          "base_uri": "https://localhost:8080/",
          "height": 430
        },
        "id": "vc5j-gyLTABY",
        "outputId": "4b07e923-0808-4939-e175-118eca35dcbe"
      },
      "execution_count": 60,
      "outputs": [
        {
          "output_type": "display_data",
          "data": {
            "text/plain": [
              "<Figure size 640x480 with 1 Axes>"
            ],
            "image/png": "[encoded data removed]"
          },
          "metadata": {}
        }
      ]
    },
    {
      "cell_type": "markdown",
      "source": [
        "Though it appears to be very variable with many increases and decreases, there appears to be a clear decline in the number of Active Well Service Rigs."
      ],
      "metadata": {
        "id": "ToNKAiGxTT6D"
      }
    },
    {
      "cell_type": "markdown",
      "source": [
        "####4.4 Instead of levels, we want to look at change over time. Compute the first difference of Active Well Service Rig Count (Number of Rigs) and plot it over time. Describe what you see."
      ],
      "metadata": {
        "id": "iYpODYV6TsV_"
      }
    },
    {
      "cell_type": "code",
      "source": [
        "plt.plot(df['time'],df['Active Well Service Rig Count (Number of Rigs)'].diff())\n",
        "plt.show()"
      ],
      "metadata": {
        "colab": {
          "base_uri": "https://localhost:8080/",
          "height": 430
        },
        "id": "qokYUrkpT9xq",
        "outputId": "eafe5f0a-7c31-4890-9863-821b925fddc6"
      },
      "execution_count": 61,
      "outputs": [
        {
          "output_type": "display_data",
          "data": {
            "text/plain": [
              "<Figure size 640x480 with 1 Axes>"
            ],
            "image/png": "[encoded data removed]"
          },
          "metadata": {}
        }
      ]
    },
    {
      "cell_type": "markdown",
      "source": [
        "There appears to be two major declines in the difference between Active Well Service Rig counts."
      ],
      "metadata": {
        "id": "WPjSmBHeUErJ"
      }
    },
    {
      "cell_type": "markdown",
      "source": [
        "####4.5 The first two columns are the number of onshore and offshore rigs, respectively. Melt these columns and plot the resulting series."
      ],
      "metadata": {
        "id": "SKX7rrB0UXJk"
      }
    },
    {
      "cell_type": "code",
      "source": [
        "df['onoffshorerigs'] = df[['Crude Oil and Natural Gas Rotary Rigs in Operation, Offshore (Number of Rigs)', 'Crude Oil and Natural Gas Rotary Rigs in Operation, Onshore (Number of Rigs)']].sum(axis=1)"
      ],
      "metadata": {
        "id": "fMUk2Wn5UfDj"
      },
      "execution_count": 64,
      "outputs": []
    },
    {
      "cell_type": "code",
      "source": [
        "plt.plot(df['time'],df['onoffshorerigs'])"
      ],
      "metadata": {
        "colab": {
          "base_uri": "https://localhost:8080/",
          "height": 448
        },
        "id": "KtLai84HVCfV",
        "outputId": "72e1b2f9-2150-4885-c78e-8718f3701b25"
      },
      "execution_count": 65,
      "outputs": [
        {
          "output_type": "execute_result",
          "data": {
            "text/plain": [
              "[<matplotlib.lines.Line2D at 0x7da17048c290>]"
            ]
          },
          "metadata": {},
          "execution_count": 65
        },
        {
          "output_type": "display_data",
          "data": {
            "text/plain": [
              "<Figure size 640x480 with 1 Axes>"
            ],
            "image/png": "[encoded data removed]"
          },
          "metadata": {}
        }
      ]
    }
  ],
  "metadata": {
    "kernelspec": {
      "display_name": "base",
      "language": "python",
      "name": "python3"
    },
    "language_info": {
      "codemirror_mode": {
        "name": "ipython",
        "version": 3
      },
      "file_extension": ".py",
      "mimetype": "text/x-python",
      "name": "python",
      "nbconvert_exporter": "python",
      "pygments_lexer": "ipython3",
      "version": "3.12.2"
    },
    "colab": {
      "provenance": []
    }
  },
  "nbformat": 4,
  "nbformat_minor": 0
}